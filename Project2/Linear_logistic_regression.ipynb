{
 "cells": [
  {
   "cell_type": "markdown",
   "metadata": {
    "id": "Cs9E_R5yD48u"
   },
   "source": [
    "# **Assignment \\#2**: Machine Learning MC886/MO444\n",
    "University of Campinas (UNICAMP), Institute of Computing (IC)\n",
    "\n",
    "Prof. Sandra Avila, 2022s2\n",
    "\n"
   ]
  },
  {
   "cell_type": "code",
   "execution_count": null,
   "metadata": {
    "colab": {
     "base_uri": "https://localhost:8080/"
    },
    "id": "tFS9Oum_RJX9",
    "outputId": "bfa0da7b-070d-49d9-9f2f-c86a2831da5a"
   },
   "outputs": [],
   "source": [
    "# TODO: RA & Name \n",
    "print('RA:181980 ' + 'Bruno Martinez de Farias')\n",
    "print('RA:220129 ' + 'Leonardo Mazzamboni Colussi')"
   ]
  },
  {
   "cell_type": "markdown",
   "metadata": {
    "id": "IVGH2s7fD_03"
   },
   "source": [
    "## Objective\n",
    "\n",
    "Explore **linear regression** and **logistic regression** alternatives and come up with the best possible model for the problems, avoiding overfitting. In particular, predict the performance of students from public schools in the state of São Paulo based on socioeconomic data from SARESP (School Performance Assessment System of the State of São Paulo, or Sistema de Avaliação de Rendimento Escolar do Estado de São Paulo) 2021."
   ]
  },
  {
   "cell_type": "markdown",
   "metadata": {
    "id": "r3XDZRGqEwsk"
   },
   "source": [
    "### Dataset\n",
    "\n",
    "These data were aggregated from [Open Data Platform of the Secretary of Education of the State of São Paulo](https://dados.educacao.sp.gov.br/) (*Portal de Dados Abertos da Secretaria da Educação do Estado de São Paulo*). The dataset is based on two data sources: [SARESP questionnaire](https://dados.educacao.sp.gov.br/dataset/question%C3%A1rios-saresp) and [SARESP test](https://dados.educacao.sp.gov.br/dataset/profici%C3%AAncia-do-sistema-de-avalia%C3%A7%C3%A3o-de-rendimento-escolar-do-estado-de-s%C3%A3o-paulo-saresp-por), conducted in 2021 with students from the 5th and 9th year of Primary School and 3rd year of Highschool. The questionnaire comprehends 63 socio-economical questions, and it is available at the [link](https://dados.educacao.sp.gov.br/sites/default/files/Saresp_Quest_2021_Perguntas_Alunos.pdf ) ([English version](https://docs.google.com/document/d/1GUax3wwYxA43d3iNOiyCRImeCHgx8vUJrHlSzzYIXA4/edit?usp=sharing)), and the test is composed of questions of Portuguese, Mathematics, and Natural Sciences.\n",
    "\n",
    "\n",
    "**Data Dictionary**:\n",
    "\n",
    "- **CD_ALUNO**: Student ID;\n",
    "\n",
    "- **CODESC**: School ID;\n",
    "\n",
    "- **NOMESC**: School Name;\n",
    "\n",
    "- **RegiaoMetropolitana**: Metropolitan region;\n",
    "\n",
    "- **DE**: Name of the Education Board;\n",
    "\n",
    "- **CODMUN**: City ID;\n",
    "\n",
    "- **MUN**: City name;\n",
    "\n",
    "- **SERIE_ANO**: Scholar year;\n",
    "\n",
    "- **TURMA**: Class;\n",
    "\n",
    "- **TP_SEXO**: Sex (Female/Male);\n",
    "\n",
    "- **DT_NASCIMENTO**: Birth date;\n",
    "\n",
    "- **PERIODO**: Period of study (morning, afternoon, evening);\n",
    "\n",
    "- **Tem_Nec**: Whether student has any special needs (1 = yes, 0 = no);\n",
    "\n",
    "- **NEC_ESP_1** - **NEC_ESP_5**: Student disabilities;\n",
    "\n",
    "- **Tipo_PROVA**: Exam type (A = Enlarged, B = Braile, C = Common);\n",
    "\n",
    "- **QN**: Student answer to the question N (N= 1, ... , 63), see  questions in [questionnaire](https://dados.educacao.sp.gov.br/sites/default/files/Saresp_Quest_2021_Perguntas_Alunos.pdf ) ([English version](https://docs.google.com/document/d/1GUax3wwYxA43d3iNOiyCRImeCHgx8vUJrHlSzzYIXA4/edit?usp=sharing));\n",
    "\n",
    "- **porc_ACERT_lp**: Percentage of correct answers in the Portuguese test;\n",
    "\n",
    "- **porc_ACERT_MAT**: Percentage of correct answers in the Mathematics test;\n",
    "\n",
    "- **porc_ACERT_CIE**: Percentage of correct answers in the Natural Sciences test;\n",
    "\n",
    "- **nivel_profic_lp**: Proficiency level in the Portuguese test;\n",
    "\n",
    "- **nivel_profic_mat**: Proficiency level in the Mathematics test;\n",
    "\n",
    "- **nivel_profic_cie**:  Proficiency level in the Natural Sciences test.\n",
    "\n",
    "\n",
    "---\n",
    "\n",
    "\n",
    "\n",
    "You must respect the following training/test split:\n",
    "- SARESP_train.csv\n",
    "- SARESP_test.csv"
   ]
  },
  {
   "cell_type": "markdown",
   "metadata": {
    "id": "5FAA8hsZUseO"
   },
   "source": [
    "## Linear Regression\n",
    "\n",
    "This part of the assignment aims to predict students' performance on Portuguese, Mathematics, and Natural Sciences tests (target values: `porc_ACERT_lp`, `porc_ACERT_MAT`, and  `porc_ACERT_CIE`) based on their socioeconomic data. Then, at this point, you have to **drop the columns `nivel_profic_lp`, `nivel_profic_mat`** and **`nivel_profic_cie`**."
   ]
  },
  {
   "cell_type": "markdown",
   "metadata": {
    "id": "5d495CmpCltx"
   },
   "source": [
    "### Activities\n",
    "\n",
    "1. (3.5 points) Perform Linear Regression. You should implement your solution and compare it with ```sklearn.linear_model.SGDRegressor``` (linear model fitted by minimizing a regularized empirical loss with SGD, http://scikit-learn.org). Keep in mind that friends don't let friends use testing data for training :-)\n",
    "\n",
    "Note: Before we start an ML project, we always conduct a brief exploratory analysis :D \n",
    "\n",
    "Some factors to consider: Are there any outliers? Are there missing values? How will you handle categorical variables? Are there any features with low correlation with the target variables? What happens if you drop them?\n",
    "\n",
    "\n"
   ]
  },
  {
   "cell_type": "code",
   "execution_count": 87,
   "metadata": {
    "colab": {
     "base_uri": "https://localhost:8080/",
     "height": 35
    },
    "id": "3y0QxxH1KgE1",
    "outputId": "d181b90f-ad63-4918-8413-8179854ed38e"
   },
   "outputs": [],
   "source": [
    "# TODO: Load and preprocess your dataset.\n",
    "\n",
    "import numpy as np\n",
    "import pandas as pd\n",
    "import matplotlib.pyplot as plt\n",
    "import seaborn as sns\n",
    "import random as rand\n",
    "import warnings\n",
    "import zipfile\n",
    "import os \n",
    "from datetime import datetime, date\n",
    "from sklearn.linear_model import LinearRegression, LogisticRegressionCV\n",
    "from sklearn.preprocessing import OrdinalEncoder, OneHotEncoder , RobustScaler, MaxAbsScaler, LabelEncode\n",
    "from sklearn.model_selection import train_test_split, StratifiedKFold\n",
    "from sklearn.pipeline import Pipeline\n",
    "from sklearn.compose import ColumnTransformer\n",
    "%matplotlib inline\n",
    "\n",
    "warnings.filterwarnings(\"ignore\")"
   ]
  },
  {
   "cell_type": "code",
   "execution_count": 2,
   "metadata": {
    "id": "eDD26lSehqws"
   },
   "outputs": [],
   "source": [
    "pd.set_option('display.max_columns', None)\n",
    "pd.set_option('display.max_rows', None)"
   ]
  },
  {
   "cell_type": "code",
   "execution_count": 3,
   "metadata": {
    "colab": {
     "base_uri": "https://localhost:8080/"
    },
    "id": "Y3CYfc05XfKU",
    "outputId": "74a73898-729a-4e89-8d65-52367eca1db9"
   },
   "outputs": [
    {
     "data": {
      "text/plain": [
       "((120596, 88), 17424)"
      ]
     },
     "execution_count": 3,
     "metadata": {},
     "output_type": "execute_result"
    }
   ],
   "source": [
    "df = pd.read_csv('SARESP_train.csv')\n",
    "df.shape, df.duplicated().sum()"
   ]
  },
  {
   "cell_type": "code",
   "execution_count": 4,
   "metadata": {},
   "outputs": [
    {
     "name": "stdout",
     "output_type": "stream",
     "text": [
      "<class 'pandas.core.frame.DataFrame'>\n",
      "Int64Index: 103172 entries, 0 to 120594\n",
      "Data columns (total 88 columns):\n",
      " #   Column               Non-Null Count   Dtype  \n",
      "---  ------               --------------   -----  \n",
      " 0   CD_ALUNO             103172 non-null  int64  \n",
      " 1   NOMESC               103172 non-null  object \n",
      " 2   Q1                   103172 non-null  object \n",
      " 3   Q2                   103172 non-null  object \n",
      " 4   Q3                   103172 non-null  object \n",
      " 5   Q4                   103172 non-null  object \n",
      " 6   Q5                   103172 non-null  object \n",
      " 7   Q6                   103172 non-null  object \n",
      " 8   Q7                   103172 non-null  object \n",
      " 9   Q8                   103172 non-null  object \n",
      " 10  Q9                   103172 non-null  object \n",
      " 11  Q10                  103172 non-null  object \n",
      " 12  Q11                  103172 non-null  object \n",
      " 13  Q12                  103172 non-null  object \n",
      " 14  Q13                  103172 non-null  object \n",
      " 15  Q14                  103172 non-null  object \n",
      " 16  Q15                  103172 non-null  object \n",
      " 17  Q16                  103172 non-null  object \n",
      " 18  Q17                  103172 non-null  object \n",
      " 19  Q18                  103172 non-null  object \n",
      " 20  Q19                  103172 non-null  object \n",
      " 21  Q20                  103172 non-null  object \n",
      " 22  Q21                  103172 non-null  object \n",
      " 23  Q22                  103172 non-null  object \n",
      " 24  Q23                  103172 non-null  object \n",
      " 25  Q24                  103172 non-null  object \n",
      " 26  Q25                  103172 non-null  object \n",
      " 27  Q26                  103172 non-null  object \n",
      " 28  Q27                  103172 non-null  object \n",
      " 29  Q28                  103172 non-null  object \n",
      " 30  Q29                  103172 non-null  object \n",
      " 31  Q30                  103172 non-null  object \n",
      " 32  Q31                  103172 non-null  object \n",
      " 33  Q32                  103172 non-null  object \n",
      " 34  Q33                  103172 non-null  object \n",
      " 35  Q34                  103172 non-null  object \n",
      " 36  Q35                  103172 non-null  object \n",
      " 37  Q36                  103172 non-null  object \n",
      " 38  Q37                  103172 non-null  object \n",
      " 39  Q38                  103172 non-null  object \n",
      " 40  Q39                  103172 non-null  object \n",
      " 41  Q40                  103172 non-null  object \n",
      " 42  Q41                  103172 non-null  object \n",
      " 43  Q42                  103172 non-null  object \n",
      " 44  Q43                  103172 non-null  object \n",
      " 45  Q44                  103172 non-null  object \n",
      " 46  Q45                  103172 non-null  object \n",
      " 47  Q46                  103172 non-null  object \n",
      " 48  Q47                  103172 non-null  object \n",
      " 49  Q48                  103172 non-null  object \n",
      " 50  Q49                  103172 non-null  object \n",
      " 51  Q50                  103172 non-null  object \n",
      " 52  Q51                  103172 non-null  object \n",
      " 53  Q52                  103172 non-null  object \n",
      " 54  Q53                  103172 non-null  object \n",
      " 55  Q54                  103172 non-null  object \n",
      " 56  Q55                  103172 non-null  object \n",
      " 57  Q56                  103172 non-null  object \n",
      " 58  Q57                  103172 non-null  object \n",
      " 59  Q58                  103172 non-null  object \n",
      " 60  Q59                  103172 non-null  object \n",
      " 61  Q60                  103172 non-null  object \n",
      " 62  Q61                  103172 non-null  object \n",
      " 63  Q62                  103172 non-null  object \n",
      " 64  Q63                  103172 non-null  object \n",
      " 65  RegiaoMetropolitana  103172 non-null  object \n",
      " 66  DE                   103172 non-null  object \n",
      " 67  CODMUN               103172 non-null  int64  \n",
      " 68  MUN                  103172 non-null  object \n",
      " 69  CODESC               103172 non-null  int64  \n",
      " 70  SERIE_ANO            103172 non-null  object \n",
      " 71  TURMA                103172 non-null  object \n",
      " 72  TP_SEXO              103172 non-null  object \n",
      " 73  DT_NASCIMENTO        103172 non-null  object \n",
      " 74  PERIODO              103172 non-null  object \n",
      " 75  NEC_ESP_1            1577 non-null    object \n",
      " 76  NEC_ESP_2            68 non-null      object \n",
      " 77  NEC_ESP_3            46 non-null      object \n",
      " 78  NEC_ESP_4            1 non-null       object \n",
      " 79  NEC_ESP_5            0 non-null       float64\n",
      " 80  Tipo_PROVA           103172 non-null  object \n",
      " 81  Tem_Nec              103172 non-null  int64  \n",
      " 82  porc_ACERT_lp        103172 non-null  float64\n",
      " 83  porc_ACERT_MAT       103172 non-null  float64\n",
      " 84  porc_ACERT_CIE       103172 non-null  float64\n",
      " 85  nivel_profic_lp      103172 non-null  object \n",
      " 86  nivel_profic_mat     103172 non-null  object \n",
      " 87  nivel_profic_cie     103172 non-null  object \n",
      "dtypes: float64(4), int64(4), object(80)\n",
      "memory usage: 70.1+ MB\n"
     ]
    }
   ],
   "source": [
    "df.drop_duplicates(inplace = True)\n",
    "df.info()"
   ]
  },
  {
   "cell_type": "code",
   "execution_count": 5,
   "metadata": {},
   "outputs": [
    {
     "data": {
      "text/html": [
       "<div>\n",
       "<style scoped>\n",
       "    .dataframe tbody tr th:only-of-type {\n",
       "        vertical-align: middle;\n",
       "    }\n",
       "\n",
       "    .dataframe tbody tr th {\n",
       "        vertical-align: top;\n",
       "    }\n",
       "\n",
       "    .dataframe thead th {\n",
       "        text-align: right;\n",
       "    }\n",
       "</style>\n",
       "<table border=\"1\" class=\"dataframe\">\n",
       "  <thead>\n",
       "    <tr style=\"text-align: right;\">\n",
       "      <th></th>\n",
       "      <th>SG_UF</th>\n",
       "      <th>CO_MUNICIPIO</th>\n",
       "      <th>CO_ENTIDADE</th>\n",
       "      <th>QT_MAT_BAS</th>\n",
       "    </tr>\n",
       "  </thead>\n",
       "  <tbody>\n",
       "    <tr>\n",
       "      <th>0</th>\n",
       "      <td>RO</td>\n",
       "      <td>1100015</td>\n",
       "      <td>11022558</td>\n",
       "      <td>8.0</td>\n",
       "    </tr>\n",
       "    <tr>\n",
       "      <th>1</th>\n",
       "      <td>RO</td>\n",
       "      <td>1100015</td>\n",
       "      <td>11024275</td>\n",
       "      <td>231.0</td>\n",
       "    </tr>\n",
       "    <tr>\n",
       "      <th>2</th>\n",
       "      <td>RO</td>\n",
       "      <td>1100015</td>\n",
       "      <td>11024291</td>\n",
       "      <td>10.0</td>\n",
       "    </tr>\n",
       "    <tr>\n",
       "      <th>3</th>\n",
       "      <td>RO</td>\n",
       "      <td>1100015</td>\n",
       "      <td>11024372</td>\n",
       "      <td>104.0</td>\n",
       "    </tr>\n",
       "    <tr>\n",
       "      <th>4</th>\n",
       "      <td>RO</td>\n",
       "      <td>1100015</td>\n",
       "      <td>11024666</td>\n",
       "      <td>173.0</td>\n",
       "    </tr>\n",
       "  </tbody>\n",
       "</table>\n",
       "</div>"
      ],
      "text/plain": [
       "  SG_UF  CO_MUNICIPIO  CO_ENTIDADE  QT_MAT_BAS\n",
       "0    RO       1100015     11022558         8.0\n",
       "1    RO       1100015     11024275       231.0\n",
       "2    RO       1100015     11024291        10.0\n",
       "3    RO       1100015     11024372       104.0\n",
       "4    RO       1100015     11024666       173.0"
      ]
     },
     "metadata": {},
     "output_type": "display_data"
    },
    {
     "data": {
      "text/html": [
       "<div>\n",
       "<style scoped>\n",
       "    .dataframe tbody tr th:only-of-type {\n",
       "        vertical-align: middle;\n",
       "    }\n",
       "\n",
       "    .dataframe tbody tr th {\n",
       "        vertical-align: top;\n",
       "    }\n",
       "\n",
       "    .dataframe thead th {\n",
       "        text-align: right;\n",
       "    }\n",
       "</style>\n",
       "<table border=\"1\" class=\"dataframe\">\n",
       "  <thead>\n",
       "    <tr style=\"text-align: right;\">\n",
       "      <th></th>\n",
       "      <th>SG_UF</th>\n",
       "      <th>CO_MUNICIPIO</th>\n",
       "      <th>CO_ENTIDADE</th>\n",
       "      <th>QT_MAT_BAS</th>\n",
       "    </tr>\n",
       "  </thead>\n",
       "  <tbody>\n",
       "    <tr>\n",
       "      <th>0</th>\n",
       "      <td>SP</td>\n",
       "      <td>3500105</td>\n",
       "      <td>35030806</td>\n",
       "      <td>699.0</td>\n",
       "    </tr>\n",
       "    <tr>\n",
       "      <th>1</th>\n",
       "      <td>SP</td>\n",
       "      <td>3500105</td>\n",
       "      <td>35031045</td>\n",
       "      <td>557.0</td>\n",
       "    </tr>\n",
       "    <tr>\n",
       "      <th>2</th>\n",
       "      <td>SP</td>\n",
       "      <td>3500105</td>\n",
       "      <td>35031082</td>\n",
       "      <td>952.0</td>\n",
       "    </tr>\n",
       "    <tr>\n",
       "      <th>3</th>\n",
       "      <td>SP</td>\n",
       "      <td>3500105</td>\n",
       "      <td>35031100</td>\n",
       "      <td>239.0</td>\n",
       "    </tr>\n",
       "    <tr>\n",
       "      <th>4</th>\n",
       "      <td>SP</td>\n",
       "      <td>3500105</td>\n",
       "      <td>35031112</td>\n",
       "      <td>656.0</td>\n",
       "    </tr>\n",
       "  </tbody>\n",
       "</table>\n",
       "</div>"
      ],
      "text/plain": [
       "  SG_UF  CO_MUNICIPIO  CO_ENTIDADE  QT_MAT_BAS\n",
       "0    SP       3500105     35030806       699.0\n",
       "1    SP       3500105     35031045       557.0\n",
       "2    SP       3500105     35031082       952.0\n",
       "3    SP       3500105     35031100       239.0\n",
       "4    SP       3500105     35031112       656.0"
      ]
     },
     "metadata": {},
     "output_type": "display_data"
    }
   ],
   "source": [
    "headers = ['SG_UF', 'CO_ENTIDADE', 'CO_MUNICIPIO', 'QT_MAT_BAS']\n",
    "\n",
    "with zipfile.ZipFile('microdados_censo_escolar_2021.zip') as zip_reader:\n",
    "    with zip_reader.open('2021/dados/microdados_ed_basica_2021.csv') as myZip:\n",
    "        df_mec = pd.read_csv(myZip,\n",
    "                             encoding = 'latin-1', \n",
    "                             sep = ';',\n",
    "                             usecols = headers) \n",
    "        \n",
    "df_mec_sp = df_mec[df_mec['SG_UF'] == 'SP'].dropna().reset_index(drop = True)\n",
    "\n",
    "display(df_mec.head(), df_mec_sp.head())"
   ]
  },
  {
   "cell_type": "code",
   "execution_count": 6,
   "metadata": {
    "colab": {
     "base_uri": "https://localhost:8080/"
    },
    "id": "BS9d6hHAecEK",
    "outputId": "d585d5b8-50da-4ae9-90cb-6d845f31b797"
   },
   "outputs": [
    {
     "data": {
      "text/html": [
       "<div>\n",
       "<style scoped>\n",
       "    .dataframe tbody tr th:only-of-type {\n",
       "        vertical-align: middle;\n",
       "    }\n",
       "\n",
       "    .dataframe tbody tr th {\n",
       "        vertical-align: top;\n",
       "    }\n",
       "\n",
       "    .dataframe thead th {\n",
       "        text-align: right;\n",
       "    }\n",
       "</style>\n",
       "<table border=\"1\" class=\"dataframe\">\n",
       "  <thead>\n",
       "    <tr style=\"text-align: right;\">\n",
       "      <th></th>\n",
       "      <th>CO_MUNICIPIO</th>\n",
       "      <th>MAT_PER_MUN</th>\n",
       "      <th>ESC_PER_MUN</th>\n",
       "    </tr>\n",
       "  </thead>\n",
       "  <tbody>\n",
       "    <tr>\n",
       "      <th>0</th>\n",
       "      <td>3500105</td>\n",
       "      <td>7248.0</td>\n",
       "      <td>26</td>\n",
       "    </tr>\n",
       "    <tr>\n",
       "      <th>1</th>\n",
       "      <td>3500204</td>\n",
       "      <td>839.0</td>\n",
       "      <td>5</td>\n",
       "    </tr>\n",
       "    <tr>\n",
       "      <th>2</th>\n",
       "      <td>3500303</td>\n",
       "      <td>7287.0</td>\n",
       "      <td>26</td>\n",
       "    </tr>\n",
       "    <tr>\n",
       "      <th>3</th>\n",
       "      <td>3500402</td>\n",
       "      <td>1092.0</td>\n",
       "      <td>8</td>\n",
       "    </tr>\n",
       "    <tr>\n",
       "      <th>4</th>\n",
       "      <td>3500501</td>\n",
       "      <td>3429.0</td>\n",
       "      <td>19</td>\n",
       "    </tr>\n",
       "  </tbody>\n",
       "</table>\n",
       "</div>"
      ],
      "text/plain": [
       "   CO_MUNICIPIO  MAT_PER_MUN  ESC_PER_MUN\n",
       "0       3500105       7248.0           26\n",
       "1       3500204        839.0            5\n",
       "2       3500303       7287.0           26\n",
       "3       3500402       1092.0            8\n",
       "4       3500501       3429.0           19"
      ]
     },
     "execution_count": 6,
     "metadata": {},
     "output_type": "execute_result"
    }
   ],
   "source": [
    "df_mec_sp = df_mec_sp \\\n",
    "    .groupby('CO_MUNICIPIO')['QT_MAT_BAS'] \\\n",
    "    .agg(MAT_PER_MUN = 'sum', ESC_PER_MUN = 'count') \\\n",
    "    .reset_index() \n",
    "\n",
    "df_mec_sp.head()"
   ]
  },
  {
   "cell_type": "code",
   "execution_count": 7,
   "metadata": {},
   "outputs": [],
   "source": [
    "df_mec = pd.merge(df_mec, \n",
    "                  df_mec_sp, \n",
    "                  how = 'left', \n",
    "                  on = 'CO_MUNICIPIO')\n",
    "\n",
    "df_mec = df_mec[df_mec['SG_UF'] == 'SP'].drop('SG_UF', axis = 1)\n",
    "\n",
    "df_mec.rename(columns = {'CO_ENTIDADE': 'CODESC'}, inplace = True)\n",
    "df_mec['CODESC'] = df_mec['CODESC'].apply(lambda x: str(x)[2:]).astype(int)"
   ]
  },
  {
   "cell_type": "code",
   "execution_count": 8,
   "metadata": {
    "id": "zmBy59WxcfHr"
   },
   "outputs": [
    {
     "data": {
      "text/plain": [
       "((103172, 91), 0)"
      ]
     },
     "execution_count": 8,
     "metadata": {},
     "output_type": "execute_result"
    }
   ],
   "source": [
    "df = pd.merge(df, df_mec, how = 'left', on = 'CODESC').drop('CO_MUNICIPIO', axis = 1)\n",
    "df.shape, df.duplicated().sum()"
   ]
  },
  {
   "cell_type": "code",
   "execution_count": 9,
   "metadata": {
    "colab": {
     "base_uri": "https://localhost:8080/",
     "height": 444
    },
    "id": "W0TQ8gHSgymn",
    "outputId": "4ded272e-c926-40f6-fe77-af9ce537cf2a"
   },
   "outputs": [
    {
     "name": "stdout",
     "output_type": "stream",
     "text": [
      "<class 'pandas.core.frame.DataFrame'>\n",
      "Int64Index: 103172 entries, 0 to 103171\n",
      "Data columns (total 91 columns):\n",
      " #   Column               Non-Null Count   Dtype  \n",
      "---  ------               --------------   -----  \n",
      " 0   CD_ALUNO             103172 non-null  int64  \n",
      " 1   NOMESC               103172 non-null  object \n",
      " 2   Q1                   103172 non-null  object \n",
      " 3   Q2                   103172 non-null  object \n",
      " 4   Q3                   103172 non-null  object \n",
      " 5   Q4                   103172 non-null  object \n",
      " 6   Q5                   103172 non-null  object \n",
      " 7   Q6                   103172 non-null  object \n",
      " 8   Q7                   103172 non-null  object \n",
      " 9   Q8                   103172 non-null  object \n",
      " 10  Q9                   103172 non-null  object \n",
      " 11  Q10                  103172 non-null  object \n",
      " 12  Q11                  103172 non-null  object \n",
      " 13  Q12                  103172 non-null  object \n",
      " 14  Q13                  103172 non-null  object \n",
      " 15  Q14                  103172 non-null  object \n",
      " 16  Q15                  103172 non-null  object \n",
      " 17  Q16                  103172 non-null  object \n",
      " 18  Q17                  103172 non-null  object \n",
      " 19  Q18                  103172 non-null  object \n",
      " 20  Q19                  103172 non-null  object \n",
      " 21  Q20                  103172 non-null  object \n",
      " 22  Q21                  103172 non-null  object \n",
      " 23  Q22                  103172 non-null  object \n",
      " 24  Q23                  103172 non-null  object \n",
      " 25  Q24                  103172 non-null  object \n",
      " 26  Q25                  103172 non-null  object \n",
      " 27  Q26                  103172 non-null  object \n",
      " 28  Q27                  103172 non-null  object \n",
      " 29  Q28                  103172 non-null  object \n",
      " 30  Q29                  103172 non-null  object \n",
      " 31  Q30                  103172 non-null  object \n",
      " 32  Q31                  103172 non-null  object \n",
      " 33  Q32                  103172 non-null  object \n",
      " 34  Q33                  103172 non-null  object \n",
      " 35  Q34                  103172 non-null  object \n",
      " 36  Q35                  103172 non-null  object \n",
      " 37  Q36                  103172 non-null  object \n",
      " 38  Q37                  103172 non-null  object \n",
      " 39  Q38                  103172 non-null  object \n",
      " 40  Q39                  103172 non-null  object \n",
      " 41  Q40                  103172 non-null  object \n",
      " 42  Q41                  103172 non-null  object \n",
      " 43  Q42                  103172 non-null  object \n",
      " 44  Q43                  103172 non-null  object \n",
      " 45  Q44                  103172 non-null  object \n",
      " 46  Q45                  103172 non-null  object \n",
      " 47  Q46                  103172 non-null  object \n",
      " 48  Q47                  103172 non-null  object \n",
      " 49  Q48                  103172 non-null  object \n",
      " 50  Q49                  103172 non-null  object \n",
      " 51  Q50                  103172 non-null  object \n",
      " 52  Q51                  103172 non-null  object \n",
      " 53  Q52                  103172 non-null  object \n",
      " 54  Q53                  103172 non-null  object \n",
      " 55  Q54                  103172 non-null  object \n",
      " 56  Q55                  103172 non-null  object \n",
      " 57  Q56                  103172 non-null  object \n",
      " 58  Q57                  103172 non-null  object \n",
      " 59  Q58                  103172 non-null  object \n",
      " 60  Q59                  103172 non-null  object \n",
      " 61  Q60                  103172 non-null  object \n",
      " 62  Q61                  103172 non-null  object \n",
      " 63  Q62                  103172 non-null  object \n",
      " 64  Q63                  103172 non-null  object \n",
      " 65  RegiaoMetropolitana  103172 non-null  object \n",
      " 66  DE                   103172 non-null  object \n",
      " 67  CODMUN               103172 non-null  int64  \n",
      " 68  MUN                  103172 non-null  object \n",
      " 69  CODESC               103172 non-null  int64  \n",
      " 70  SERIE_ANO            103172 non-null  object \n",
      " 71  TURMA                103172 non-null  object \n",
      " 72  TP_SEXO              103172 non-null  object \n",
      " 73  DT_NASCIMENTO        103172 non-null  object \n",
      " 74  PERIODO              103172 non-null  object \n",
      " 75  NEC_ESP_1            1577 non-null    object \n",
      " 76  NEC_ESP_2            68 non-null      object \n",
      " 77  NEC_ESP_3            46 non-null      object \n",
      " 78  NEC_ESP_4            1 non-null       object \n",
      " 79  NEC_ESP_5            0 non-null       float64\n",
      " 80  Tipo_PROVA           103172 non-null  object \n",
      " 81  Tem_Nec              103172 non-null  int64  \n",
      " 82  porc_ACERT_lp        103172 non-null  float64\n",
      " 83  porc_ACERT_MAT       103172 non-null  float64\n",
      " 84  porc_ACERT_CIE       103172 non-null  float64\n",
      " 85  nivel_profic_lp      103172 non-null  object \n",
      " 86  nivel_profic_mat     103172 non-null  object \n",
      " 87  nivel_profic_cie     103172 non-null  object \n",
      " 88  QT_MAT_BAS           103172 non-null  float64\n",
      " 89  MAT_PER_MUN          103172 non-null  float64\n",
      " 90  ESC_PER_MUN          103172 non-null  float64\n",
      "dtypes: float64(7), int64(4), object(80)\n",
      "memory usage: 72.4+ MB\n"
     ]
    }
   ],
   "source": [
    "df.info()"
   ]
  },
  {
   "cell_type": "code",
   "execution_count": 10,
   "metadata": {
    "colab": {
     "base_uri": "https://localhost:8080/"
    },
    "id": "9SGGsN09lXJ6",
    "outputId": "ec906ea8-6790-4b81-c245-474d4324ce82"
   },
   "outputs": [
    {
     "data": {
      "text/plain": [
       "(array([nan, 'INTELCTUAL', 'TRANSTORNO DESINTEGRATIVO DA INFANCIA',\n",
       "        'FISICA-PARALISIA CEREBRAL', 'SURDEZ SEVERA OU PROFUNDA',\n",
       "        'FISICA-OUTROS', 'MULTIPLA', 'SURDEZ LEVE OU MODERADA',\n",
       "        'SINDROME DE DOWN', 'AUTISTA INFANTIL', 'SINDROME DE ASPERGER',\n",
       "        'FISICA-CADEIRANTE', 'BAIXA VISAO', 'SINDROME DE RETT',\n",
       "        'ALTAS HABILIDADES/SUPERDOTACAO'], dtype=object),\n",
       " array([nan, 'BAIXA VISAO', 'FISICA-OUTROS',\n",
       "        'TRANSTORNO DESINTEGRATIVO DA INFANCIA',\n",
       "        'FISICA-PARALISIA CEREBRAL', 'FISICA-CADEIRANTE',\n",
       "        'SURDEZ LEVE OU MODERADA', 'AUTISTA INFANTIL',\n",
       "        'SURDEZ SEVERA OU PROFUNDA', 'SINDROME DE ASPERGER'], dtype=object),\n",
       " array([nan, 'FISICA-CADEIRANTE', 'INTELCTUAL', 'FISICA-OUTROS',\n",
       "        'SURDEZ LEVE OU MODERADA', 'FISICA-PARALISIA CEREBRAL'],\n",
       "       dtype=object),\n",
       " array([nan, 'INTELCTUAL'], dtype=object))"
      ]
     },
     "execution_count": 10,
     "metadata": {},
     "output_type": "execute_result"
    }
   ],
   "source": [
    "df['NEC_ESP_1'].unique(), df['NEC_ESP_2'].unique(), df['NEC_ESP_3'].unique(), df['NEC_ESP_4'].unique()"
   ]
  },
  {
   "cell_type": "code",
   "execution_count": 11,
   "metadata": {
    "id": "5yLjmxkzy5AA"
   },
   "outputs": [],
   "source": [
    "cond_deficientes = ((df['NEC_ESP_1'].isna() == False) & (df['NEC_ESP_1'] != 'ALTAS HABILIDADES/SUPERDOTACAO')) | (df['NEC_ESP_2'].isna() == False) | (df['NEC_ESP_3'].isna() == False) | (df['NEC_ESP_4'].isna() == False)\n",
    "cond_superdotados = df['NEC_ESP_1'] == 'ALTAS HABILIDADES/SUPERDOTACAO'\n",
    "\n",
    "idx_deficientes = df[cond_deficientes].index\n",
    "idx_superdotados = df[cond_superdotados].index"
   ]
  },
  {
   "cell_type": "code",
   "execution_count": 12,
   "metadata": {
    "colab": {
     "base_uri": "https://localhost:8080/"
    },
    "id": "Yvp-2j3knIJV",
    "outputId": "f62e1fff-1925-4ed3-804f-89c63d5cfb34"
   },
   "outputs": [
    {
     "data": {
      "text/plain": [
       "porc_ACERT_MAT    52.685468\n",
       "porc_ACERT_CIE    56.960714\n",
       "porc_ACERT_lp     60.465446\n",
       "dtype: float64"
      ]
     },
     "execution_count": 12,
     "metadata": {},
     "output_type": "execute_result"
    }
   ],
   "source": [
    "df[['porc_ACERT_MAT', 'porc_ACERT_CIE', 'porc_ACERT_lp']].mean()"
   ]
  },
  {
   "cell_type": "code",
   "execution_count": 13,
   "metadata": {
    "colab": {
     "base_uri": "https://localhost:8080/"
    },
    "id": "DWjEEMghqV63",
    "outputId": "9300fd76-44e6-4ea5-b816-8c213e04aa12"
   },
   "outputs": [
    {
     "data": {
      "text/plain": [
       "porc_ACERT_MAT    35.190641\n",
       "porc_ACERT_CIE    42.150064\n",
       "porc_ACERT_lp     40.841859\n",
       "dtype: float64"
      ]
     },
     "execution_count": 13,
     "metadata": {},
     "output_type": "execute_result"
    }
   ],
   "source": [
    "df[cond_deficientes][['porc_ACERT_MAT', 'porc_ACERT_CIE', 'porc_ACERT_lp']].mean()"
   ]
  },
  {
   "cell_type": "code",
   "execution_count": 14,
   "metadata": {
    "colab": {
     "base_uri": "https://localhost:8080/"
    },
    "id": "k-cUVQT9zF5l",
    "outputId": "671e53c8-c18a-439b-f420-3178092e1fd6"
   },
   "outputs": [
    {
     "data": {
      "text/plain": [
       "porc_ACERT_MAT    68.629412\n",
       "porc_ACERT_CIE    73.770588\n",
       "porc_ACERT_lp     75.982353\n",
       "dtype: float64"
      ]
     },
     "execution_count": 14,
     "metadata": {},
     "output_type": "execute_result"
    }
   ],
   "source": [
    "df[cond_superdotados][['porc_ACERT_MAT', 'porc_ACERT_CIE', 'porc_ACERT_lp']].mean()"
   ]
  },
  {
   "cell_type": "code",
   "execution_count": 15,
   "metadata": {
    "id": "W6Q0khPwNC_1"
   },
   "outputs": [],
   "source": [
    "# A: has any disability\n",
    "# B: is gifted\n",
    "# C: has no disability\n",
    "\n",
    "df['disability'] = ['C' if i in idx_deficientes else 'B' if i in idx_superdotados else 'A' for i in df.index]"
   ]
  },
  {
   "cell_type": "code",
   "execution_count": 16,
   "metadata": {
    "id": "kS8cv-H8w5Nr"
   },
   "outputs": [],
   "source": [
    "def age(birth_dt):\n",
    "    today = date.today()\n",
    "    return today.year - birth_dt.year - ((today.month, today.day) < (birth_dt.month, birth_dt.day))"
   ]
  },
  {
   "cell_type": "code",
   "execution_count": 17,
   "metadata": {
    "id": "5NH-r5m0qdwu"
   },
   "outputs": [],
   "source": [
    "df['Age'] = pd.to_datetime(df['DT_NASCIMENTO']).apply(lambda x: age(x))\n",
    "df[['CODMUN', 'CODESC']] = df[['CODMUN', 'CODESC']].astype('str')"
   ]
  },
  {
   "cell_type": "code",
   "execution_count": 18,
   "metadata": {
    "colab": {
     "base_uri": "https://localhost:8080/"
    },
    "id": "qusjj0KWbWjV",
    "outputId": "0e84a22c-3ce5-4376-f3af-355b90cae5a1"
   },
   "outputs": [
    {
     "data": {
      "text/plain": [
       "((103172, 72), (103172, 7))"
      ]
     },
     "execution_count": 18,
     "metadata": {},
     "output_type": "execute_result"
    }
   ],
   "source": [
    "drop_cols_categ = ['NOMESC', 'MUN', 'DT_NASCIMENTO', 'NEC_ESP_1', 'NEC_ESP_2', 'NEC_ESP_3', 'NEC_ESP_4', \n",
    "                   'TURMA', 'nivel_profic_lp', 'nivel_profic_mat', 'nivel_profic_cie']\n",
    "\n",
    "drop_cols_numeric = ['CD_ALUNO', 'NEC_ESP_5','Tem_Nec']\n",
    "\n",
    "df_categ = df.select_dtypes(include = 'object').drop(drop_cols_categ, axis = 1)\n",
    "df_num = df.select_dtypes(include = 'number').drop(drop_cols_numeric, axis = 1)\n",
    "\n",
    "df_categ.shape, df_num.shape"
   ]
  },
  {
   "cell_type": "code",
   "execution_count": 19,
   "metadata": {
    "colab": {
     "base_uri": "https://localhost:8080/",
     "height": 256
    },
    "id": "jSFdHd6MiwvT",
    "outputId": "35fe136c-f9c1-41f9-9ee3-9c03687ec46e"
   },
   "outputs": [
    {
     "data": {
      "text/html": [
       "<div>\n",
       "<style scoped>\n",
       "    .dataframe tbody tr th:only-of-type {\n",
       "        vertical-align: middle;\n",
       "    }\n",
       "\n",
       "    .dataframe tbody tr th {\n",
       "        vertical-align: top;\n",
       "    }\n",
       "\n",
       "    .dataframe thead th {\n",
       "        text-align: right;\n",
       "    }\n",
       "</style>\n",
       "<table border=\"1\" class=\"dataframe\">\n",
       "  <thead>\n",
       "    <tr style=\"text-align: right;\">\n",
       "      <th></th>\n",
       "      <th>Q1</th>\n",
       "      <th>Q2</th>\n",
       "      <th>Q3</th>\n",
       "      <th>Q4</th>\n",
       "      <th>Q5</th>\n",
       "      <th>Q6</th>\n",
       "      <th>Q7</th>\n",
       "      <th>Q8</th>\n",
       "      <th>Q9</th>\n",
       "      <th>Q10</th>\n",
       "      <th>Q11</th>\n",
       "      <th>Q12</th>\n",
       "      <th>Q13</th>\n",
       "      <th>Q14</th>\n",
       "      <th>Q15</th>\n",
       "      <th>Q16</th>\n",
       "      <th>Q17</th>\n",
       "      <th>Q18</th>\n",
       "      <th>Q19</th>\n",
       "      <th>Q20</th>\n",
       "      <th>Q21</th>\n",
       "      <th>Q22</th>\n",
       "      <th>Q23</th>\n",
       "      <th>Q24</th>\n",
       "      <th>Q25</th>\n",
       "      <th>Q26</th>\n",
       "      <th>Q27</th>\n",
       "      <th>Q28</th>\n",
       "      <th>Q29</th>\n",
       "      <th>Q30</th>\n",
       "      <th>Q31</th>\n",
       "      <th>Q32</th>\n",
       "      <th>Q33</th>\n",
       "      <th>Q34</th>\n",
       "      <th>Q35</th>\n",
       "      <th>Q36</th>\n",
       "      <th>Q37</th>\n",
       "      <th>Q38</th>\n",
       "      <th>Q39</th>\n",
       "      <th>Q40</th>\n",
       "      <th>Q41</th>\n",
       "      <th>Q42</th>\n",
       "      <th>Q43</th>\n",
       "      <th>Q44</th>\n",
       "      <th>Q45</th>\n",
       "      <th>Q46</th>\n",
       "      <th>Q47</th>\n",
       "      <th>Q48</th>\n",
       "      <th>Q49</th>\n",
       "      <th>Q50</th>\n",
       "      <th>Q51</th>\n",
       "      <th>Q52</th>\n",
       "      <th>Q53</th>\n",
       "      <th>Q54</th>\n",
       "      <th>Q55</th>\n",
       "      <th>Q56</th>\n",
       "      <th>Q57</th>\n",
       "      <th>Q58</th>\n",
       "      <th>Q59</th>\n",
       "      <th>Q60</th>\n",
       "      <th>Q61</th>\n",
       "      <th>Q62</th>\n",
       "      <th>Q63</th>\n",
       "      <th>RegiaoMetropolitana</th>\n",
       "      <th>DE</th>\n",
       "      <th>CODMUN</th>\n",
       "      <th>CODESC</th>\n",
       "      <th>SERIE_ANO</th>\n",
       "      <th>TP_SEXO</th>\n",
       "      <th>PERIODO</th>\n",
       "      <th>Tipo_PROVA</th>\n",
       "      <th>disability</th>\n",
       "    </tr>\n",
       "  </thead>\n",
       "  <tbody>\n",
       "    <tr>\n",
       "      <th>count</th>\n",
       "      <td>103172</td>\n",
       "      <td>103172</td>\n",
       "      <td>103172</td>\n",
       "      <td>103172</td>\n",
       "      <td>103172</td>\n",
       "      <td>103172</td>\n",
       "      <td>103172</td>\n",
       "      <td>103172</td>\n",
       "      <td>103172</td>\n",
       "      <td>103172</td>\n",
       "      <td>103172</td>\n",
       "      <td>103172</td>\n",
       "      <td>103172</td>\n",
       "      <td>103172</td>\n",
       "      <td>103172</td>\n",
       "      <td>103172</td>\n",
       "      <td>103172</td>\n",
       "      <td>103172</td>\n",
       "      <td>103172</td>\n",
       "      <td>103172</td>\n",
       "      <td>103172</td>\n",
       "      <td>103172</td>\n",
       "      <td>103172</td>\n",
       "      <td>103172</td>\n",
       "      <td>103172</td>\n",
       "      <td>103172</td>\n",
       "      <td>103172</td>\n",
       "      <td>103172</td>\n",
       "      <td>103172</td>\n",
       "      <td>103172</td>\n",
       "      <td>103172</td>\n",
       "      <td>103172</td>\n",
       "      <td>103172</td>\n",
       "      <td>103172</td>\n",
       "      <td>103172</td>\n",
       "      <td>103172</td>\n",
       "      <td>103172</td>\n",
       "      <td>103172</td>\n",
       "      <td>103172</td>\n",
       "      <td>103172</td>\n",
       "      <td>103172</td>\n",
       "      <td>103172</td>\n",
       "      <td>103172</td>\n",
       "      <td>103172</td>\n",
       "      <td>103172</td>\n",
       "      <td>103172</td>\n",
       "      <td>103172</td>\n",
       "      <td>103172</td>\n",
       "      <td>103172</td>\n",
       "      <td>103172</td>\n",
       "      <td>103172</td>\n",
       "      <td>103172</td>\n",
       "      <td>103172</td>\n",
       "      <td>103172</td>\n",
       "      <td>103172</td>\n",
       "      <td>103172</td>\n",
       "      <td>103172</td>\n",
       "      <td>103172</td>\n",
       "      <td>103172</td>\n",
       "      <td>103172</td>\n",
       "      <td>103172</td>\n",
       "      <td>103172</td>\n",
       "      <td>103172</td>\n",
       "      <td>103172</td>\n",
       "      <td>103172</td>\n",
       "      <td>103172</td>\n",
       "      <td>103172</td>\n",
       "      <td>103172</td>\n",
       "      <td>103172</td>\n",
       "      <td>103172</td>\n",
       "      <td>103172</td>\n",
       "      <td>103172</td>\n",
       "    </tr>\n",
       "    <tr>\n",
       "      <th>unique</th>\n",
       "      <td>4</td>\n",
       "      <td>5</td>\n",
       "      <td>5</td>\n",
       "      <td>5</td>\n",
       "      <td>5</td>\n",
       "      <td>5</td>\n",
       "      <td>5</td>\n",
       "      <td>5</td>\n",
       "      <td>3</td>\n",
       "      <td>3</td>\n",
       "      <td>3</td>\n",
       "      <td>3</td>\n",
       "      <td>3</td>\n",
       "      <td>3</td>\n",
       "      <td>3</td>\n",
       "      <td>3</td>\n",
       "      <td>3</td>\n",
       "      <td>3</td>\n",
       "      <td>3</td>\n",
       "      <td>3</td>\n",
       "      <td>3</td>\n",
       "      <td>2</td>\n",
       "      <td>4</td>\n",
       "      <td>2</td>\n",
       "      <td>4</td>\n",
       "      <td>4</td>\n",
       "      <td>3</td>\n",
       "      <td>3</td>\n",
       "      <td>3</td>\n",
       "      <td>3</td>\n",
       "      <td>3</td>\n",
       "      <td>4</td>\n",
       "      <td>4</td>\n",
       "      <td>2</td>\n",
       "      <td>3</td>\n",
       "      <td>3</td>\n",
       "      <td>3</td>\n",
       "      <td>3</td>\n",
       "      <td>3</td>\n",
       "      <td>3</td>\n",
       "      <td>3</td>\n",
       "      <td>5</td>\n",
       "      <td>4</td>\n",
       "      <td>4</td>\n",
       "      <td>4</td>\n",
       "      <td>4</td>\n",
       "      <td>4</td>\n",
       "      <td>4</td>\n",
       "      <td>4</td>\n",
       "      <td>5</td>\n",
       "      <td>5</td>\n",
       "      <td>5</td>\n",
       "      <td>5</td>\n",
       "      <td>5</td>\n",
       "      <td>5</td>\n",
       "      <td>5</td>\n",
       "      <td>5</td>\n",
       "      <td>3</td>\n",
       "      <td>3</td>\n",
       "      <td>4</td>\n",
       "      <td>4</td>\n",
       "      <td>4</td>\n",
       "      <td>4</td>\n",
       "      <td>7</td>\n",
       "      <td>65</td>\n",
       "      <td>351</td>\n",
       "      <td>2756</td>\n",
       "      <td>3</td>\n",
       "      <td>2</td>\n",
       "      <td>3</td>\n",
       "      <td>2</td>\n",
       "      <td>3</td>\n",
       "    </tr>\n",
       "    <tr>\n",
       "      <th>top</th>\n",
       "      <td>B</td>\n",
       "      <td>E</td>\n",
       "      <td>E</td>\n",
       "      <td>E</td>\n",
       "      <td>E</td>\n",
       "      <td>E</td>\n",
       "      <td>E</td>\n",
       "      <td>E</td>\n",
       "      <td>A</td>\n",
       "      <td>A</td>\n",
       "      <td>A</td>\n",
       "      <td>A</td>\n",
       "      <td>B</td>\n",
       "      <td>A</td>\n",
       "      <td>A</td>\n",
       "      <td>B</td>\n",
       "      <td>A</td>\n",
       "      <td>B</td>\n",
       "      <td>A</td>\n",
       "      <td>A</td>\n",
       "      <td>A</td>\n",
       "      <td>A</td>\n",
       "      <td>A</td>\n",
       "      <td>A</td>\n",
       "      <td>A</td>\n",
       "      <td>C</td>\n",
       "      <td>C</td>\n",
       "      <td>B</td>\n",
       "      <td>C</td>\n",
       "      <td>B</td>\n",
       "      <td>C</td>\n",
       "      <td>B</td>\n",
       "      <td>B</td>\n",
       "      <td>B</td>\n",
       "      <td>C</td>\n",
       "      <td>C</td>\n",
       "      <td>C</td>\n",
       "      <td>C</td>\n",
       "      <td>C</td>\n",
       "      <td>C</td>\n",
       "      <td>C</td>\n",
       "      <td>B</td>\n",
       "      <td>C</td>\n",
       "      <td>C</td>\n",
       "      <td>C</td>\n",
       "      <td>C</td>\n",
       "      <td>C</td>\n",
       "      <td>C</td>\n",
       "      <td>C</td>\n",
       "      <td>B</td>\n",
       "      <td>C</td>\n",
       "      <td>B</td>\n",
       "      <td>B</td>\n",
       "      <td>B</td>\n",
       "      <td>B</td>\n",
       "      <td>A</td>\n",
       "      <td>D</td>\n",
       "      <td>C</td>\n",
       "      <td>C</td>\n",
       "      <td>B</td>\n",
       "      <td>A</td>\n",
       "      <td>A</td>\n",
       "      <td>C</td>\n",
       "      <td>Região Metropolitana de São Paulo</td>\n",
       "      <td>LESTE 2</td>\n",
       "      <td>100</td>\n",
       "      <td>909166</td>\n",
       "      <td>9º Ano EF</td>\n",
       "      <td>F</td>\n",
       "      <td>MANHÃ</td>\n",
       "      <td>C</td>\n",
       "      <td>A</td>\n",
       "    </tr>\n",
       "    <tr>\n",
       "      <th>freq</th>\n",
       "      <td>63673</td>\n",
       "      <td>48965</td>\n",
       "      <td>56254</td>\n",
       "      <td>42496</td>\n",
       "      <td>41102</td>\n",
       "      <td>42629</td>\n",
       "      <td>45263</td>\n",
       "      <td>30243</td>\n",
       "      <td>71040</td>\n",
       "      <td>92007</td>\n",
       "      <td>51556</td>\n",
       "      <td>82649</td>\n",
       "      <td>40001</td>\n",
       "      <td>84354</td>\n",
       "      <td>51556</td>\n",
       "      <td>44303</td>\n",
       "      <td>57733</td>\n",
       "      <td>57423</td>\n",
       "      <td>75906</td>\n",
       "      <td>54796</td>\n",
       "      <td>73511</td>\n",
       "      <td>66637</td>\n",
       "      <td>57679</td>\n",
       "      <td>81489</td>\n",
       "      <td>60588</td>\n",
       "      <td>39779</td>\n",
       "      <td>59389</td>\n",
       "      <td>47277</td>\n",
       "      <td>51098</td>\n",
       "      <td>44563</td>\n",
       "      <td>53186</td>\n",
       "      <td>47755</td>\n",
       "      <td>43907</td>\n",
       "      <td>76036</td>\n",
       "      <td>69335</td>\n",
       "      <td>89804</td>\n",
       "      <td>76208</td>\n",
       "      <td>74628</td>\n",
       "      <td>88464</td>\n",
       "      <td>90499</td>\n",
       "      <td>80256</td>\n",
       "      <td>60063</td>\n",
       "      <td>74650</td>\n",
       "      <td>65269</td>\n",
       "      <td>60101</td>\n",
       "      <td>69496</td>\n",
       "      <td>53565</td>\n",
       "      <td>74094</td>\n",
       "      <td>66176</td>\n",
       "      <td>61424</td>\n",
       "      <td>52473</td>\n",
       "      <td>39708</td>\n",
       "      <td>82818</td>\n",
       "      <td>43757</td>\n",
       "      <td>50888</td>\n",
       "      <td>73427</td>\n",
       "      <td>40151</td>\n",
       "      <td>47625</td>\n",
       "      <td>85267</td>\n",
       "      <td>42435</td>\n",
       "      <td>38734</td>\n",
       "      <td>34781</td>\n",
       "      <td>59205</td>\n",
       "      <td>41289</td>\n",
       "      <td>4104</td>\n",
       "      <td>30111</td>\n",
       "      <td>273</td>\n",
       "      <td>48052</td>\n",
       "      <td>53451</td>\n",
       "      <td>71137</td>\n",
       "      <td>103089</td>\n",
       "      <td>101595</td>\n",
       "    </tr>\n",
       "  </tbody>\n",
       "</table>\n",
       "</div>"
      ],
      "text/plain": [
       "            Q1      Q2      Q3      Q4      Q5      Q6      Q7      Q8  \\\n",
       "count   103172  103172  103172  103172  103172  103172  103172  103172   \n",
       "unique       4       5       5       5       5       5       5       5   \n",
       "top          B       E       E       E       E       E       E       E   \n",
       "freq     63673   48965   56254   42496   41102   42629   45263   30243   \n",
       "\n",
       "            Q9     Q10     Q11     Q12     Q13     Q14     Q15     Q16  \\\n",
       "count   103172  103172  103172  103172  103172  103172  103172  103172   \n",
       "unique       3       3       3       3       3       3       3       3   \n",
       "top          A       A       A       A       B       A       A       B   \n",
       "freq     71040   92007   51556   82649   40001   84354   51556   44303   \n",
       "\n",
       "           Q17     Q18     Q19     Q20     Q21     Q22     Q23     Q24  \\\n",
       "count   103172  103172  103172  103172  103172  103172  103172  103172   \n",
       "unique       3       3       3       3       3       2       4       2   \n",
       "top          A       B       A       A       A       A       A       A   \n",
       "freq     57733   57423   75906   54796   73511   66637   57679   81489   \n",
       "\n",
       "           Q25     Q26     Q27     Q28     Q29     Q30     Q31     Q32  \\\n",
       "count   103172  103172  103172  103172  103172  103172  103172  103172   \n",
       "unique       4       4       3       3       3       3       3       4   \n",
       "top          A       C       C       B       C       B       C       B   \n",
       "freq     60588   39779   59389   47277   51098   44563   53186   47755   \n",
       "\n",
       "           Q33     Q34     Q35     Q36     Q37     Q38     Q39     Q40  \\\n",
       "count   103172  103172  103172  103172  103172  103172  103172  103172   \n",
       "unique       4       2       3       3       3       3       3       3   \n",
       "top          B       B       C       C       C       C       C       C   \n",
       "freq     43907   76036   69335   89804   76208   74628   88464   90499   \n",
       "\n",
       "           Q41     Q42     Q43     Q44     Q45     Q46     Q47     Q48  \\\n",
       "count   103172  103172  103172  103172  103172  103172  103172  103172   \n",
       "unique       3       5       4       4       4       4       4       4   \n",
       "top          C       B       C       C       C       C       C       C   \n",
       "freq     80256   60063   74650   65269   60101   69496   53565   74094   \n",
       "\n",
       "           Q49     Q50     Q51     Q52     Q53     Q54     Q55     Q56  \\\n",
       "count   103172  103172  103172  103172  103172  103172  103172  103172   \n",
       "unique       4       5       5       5       5       5       5       5   \n",
       "top          C       B       C       B       B       B       B       A   \n",
       "freq     66176   61424   52473   39708   82818   43757   50888   73427   \n",
       "\n",
       "           Q57     Q58     Q59     Q60     Q61     Q62     Q63  \\\n",
       "count   103172  103172  103172  103172  103172  103172  103172   \n",
       "unique       5       3       3       4       4       4       4   \n",
       "top          D       C       C       B       A       A       C   \n",
       "freq     40151   47625   85267   42435   38734   34781   59205   \n",
       "\n",
       "                      RegiaoMetropolitana       DE  CODMUN  CODESC  SERIE_ANO  \\\n",
       "count                              103172   103172  103172  103172     103172   \n",
       "unique                                  7       65     351    2756          3   \n",
       "top     Região Metropolitana de São Paulo  LESTE 2     100  909166  9º Ano EF   \n",
       "freq                                41289     4104   30111     273      48052   \n",
       "\n",
       "       TP_SEXO PERIODO Tipo_PROVA disability  \n",
       "count   103172  103172     103172     103172  \n",
       "unique       2       3          2          3  \n",
       "top          F   MANHÃ          C          A  \n",
       "freq     53451   71137     103089     101595  "
      ]
     },
     "execution_count": 19,
     "metadata": {},
     "output_type": "execute_result"
    }
   ],
   "source": [
    "df_categ.describe()"
   ]
  },
  {
   "cell_type": "code",
   "execution_count": 20,
   "metadata": {
    "id": "lIeR3G9mmFxK"
   },
   "outputs": [
    {
     "data": {
      "text/html": [
       "<div>\n",
       "<style scoped>\n",
       "    .dataframe tbody tr th:only-of-type {\n",
       "        vertical-align: middle;\n",
       "    }\n",
       "\n",
       "    .dataframe tbody tr th {\n",
       "        vertical-align: top;\n",
       "    }\n",
       "\n",
       "    .dataframe thead th {\n",
       "        text-align: right;\n",
       "    }\n",
       "</style>\n",
       "<table border=\"1\" class=\"dataframe\">\n",
       "  <thead>\n",
       "    <tr style=\"text-align: right;\">\n",
       "      <th></th>\n",
       "      <th>porc_ACERT_lp</th>\n",
       "      <th>porc_ACERT_MAT</th>\n",
       "      <th>porc_ACERT_CIE</th>\n",
       "      <th>QT_MAT_BAS</th>\n",
       "      <th>MAT_PER_MUN</th>\n",
       "      <th>ESC_PER_MUN</th>\n",
       "      <th>Age</th>\n",
       "    </tr>\n",
       "  </thead>\n",
       "  <tbody>\n",
       "    <tr>\n",
       "      <th>count</th>\n",
       "      <td>103172.000000</td>\n",
       "      <td>103172.000000</td>\n",
       "      <td>103172.000000</td>\n",
       "      <td>103172.000000</td>\n",
       "      <td>1.031720e+05</td>\n",
       "      <td>103172.000000</td>\n",
       "      <td>103172.000000</td>\n",
       "    </tr>\n",
       "    <tr>\n",
       "      <th>mean</th>\n",
       "      <td>60.465446</td>\n",
       "      <td>52.685468</td>\n",
       "      <td>56.960714</td>\n",
       "      <td>793.811528</td>\n",
       "      <td>8.154644e+05</td>\n",
       "      <td>2193.049568</td>\n",
       "      <td>15.606201</td>\n",
       "    </tr>\n",
       "    <tr>\n",
       "      <th>std</th>\n",
       "      <td>21.814755</td>\n",
       "      <td>21.402735</td>\n",
       "      <td>18.308255</td>\n",
       "      <td>428.773833</td>\n",
       "      <td>1.194702e+06</td>\n",
       "      <td>3208.174791</td>\n",
       "      <td>2.543930</td>\n",
       "    </tr>\n",
       "    <tr>\n",
       "      <th>min</th>\n",
       "      <td>0.000000</td>\n",
       "      <td>0.000000</td>\n",
       "      <td>0.000000</td>\n",
       "      <td>61.000000</td>\n",
       "      <td>2.340000e+02</td>\n",
       "      <td>2.000000</td>\n",
       "      <td>10.000000</td>\n",
       "    </tr>\n",
       "    <tr>\n",
       "      <th>25%</th>\n",
       "      <td>45.800000</td>\n",
       "      <td>37.500000</td>\n",
       "      <td>45.800000</td>\n",
       "      <td>473.000000</td>\n",
       "      <td>1.202300e+04</td>\n",
       "      <td>47.000000</td>\n",
       "      <td>15.000000</td>\n",
       "    </tr>\n",
       "    <tr>\n",
       "      <th>50%</th>\n",
       "      <td>62.500000</td>\n",
       "      <td>50.000000</td>\n",
       "      <td>58.300000</td>\n",
       "      <td>699.000000</td>\n",
       "      <td>6.718600e+04</td>\n",
       "      <td>168.000000</td>\n",
       "      <td>16.000000</td>\n",
       "    </tr>\n",
       "    <tr>\n",
       "      <th>75%</th>\n",
       "      <td>79.200000</td>\n",
       "      <td>70.800000</td>\n",
       "      <td>70.800000</td>\n",
       "      <td>1022.000000</td>\n",
       "      <td>2.674792e+06</td>\n",
       "      <td>7187.000000</td>\n",
       "      <td>18.000000</td>\n",
       "    </tr>\n",
       "    <tr>\n",
       "      <th>max</th>\n",
       "      <td>100.000000</td>\n",
       "      <td>100.000000</td>\n",
       "      <td>100.000000</td>\n",
       "      <td>2458.000000</td>\n",
       "      <td>2.674792e+06</td>\n",
       "      <td>7187.000000</td>\n",
       "      <td>56.000000</td>\n",
       "    </tr>\n",
       "  </tbody>\n",
       "</table>\n",
       "</div>"
      ],
      "text/plain": [
       "       porc_ACERT_lp  porc_ACERT_MAT  porc_ACERT_CIE     QT_MAT_BAS  \\\n",
       "count  103172.000000   103172.000000   103172.000000  103172.000000   \n",
       "mean       60.465446       52.685468       56.960714     793.811528   \n",
       "std        21.814755       21.402735       18.308255     428.773833   \n",
       "min         0.000000        0.000000        0.000000      61.000000   \n",
       "25%        45.800000       37.500000       45.800000     473.000000   \n",
       "50%        62.500000       50.000000       58.300000     699.000000   \n",
       "75%        79.200000       70.800000       70.800000    1022.000000   \n",
       "max       100.000000      100.000000      100.000000    2458.000000   \n",
       "\n",
       "        MAT_PER_MUN    ESC_PER_MUN            Age  \n",
       "count  1.031720e+05  103172.000000  103172.000000  \n",
       "mean   8.154644e+05    2193.049568      15.606201  \n",
       "std    1.194702e+06    3208.174791       2.543930  \n",
       "min    2.340000e+02       2.000000      10.000000  \n",
       "25%    1.202300e+04      47.000000      15.000000  \n",
       "50%    6.718600e+04     168.000000      16.000000  \n",
       "75%    2.674792e+06    7187.000000      18.000000  \n",
       "max    2.674792e+06    7187.000000      56.000000  "
      ]
     },
     "execution_count": 20,
     "metadata": {},
     "output_type": "execute_result"
    }
   ],
   "source": [
    "df_num.describe()"
   ]
  },
  {
   "cell_type": "code",
   "execution_count": 21,
   "metadata": {},
   "outputs": [
    {
     "data": {
      "image/png": "[encoded data removed]",
      "text/plain": [
       "<Figure size 720x576 with 4 Axes>"
      ]
     },
     "metadata": {
      "needs_background": "light"
     },
     "output_type": "display_data"
    }
   ],
   "source": [
    "f, axes = plt.subplots(2, 2, figsize = (10, 8))\n",
    "\n",
    "sns.boxplot(y = 'QT_MAT_BAS', data = df, orient ='v', ax = axes[0][0])\n",
    "sns.boxplot(y = 'MAT_PER_MUN', data = df, orient ='v', ax = axes[0][1]).set(yscale = \"log\")\n",
    "sns.boxplot(y = 'ESC_PER_MUN', data = df, orient ='v', ax = axes[1][0]).set(yscale = \"log\")\n",
    "sns.boxplot(y = 'Age', data = df, orient = 'v', ax = axes[1][1])\n",
    "\n",
    "plt.show()"
   ]
  },
  {
   "cell_type": "code",
   "execution_count": 36,
   "metadata": {
    "scrolled": true
   },
   "outputs": [
    {
     "data": {
      "image/png": "[encoded data removed]",
      "text/plain": [
       "<Figure size 1224x360 with 3 Axes>"
      ]
     },
     "metadata": {
      "needs_background": "light"
     },
     "output_type": "display_data"
    }
   ],
   "source": [
    "f, axes = plt.subplots(1, 3, figsize = (17, 5))\n",
    " \n",
    "sns.histplot(df.QT_MAT_BAS, alpha = 0.4, kde = True, kde_kws = {\"cut\": 3}, ax = axes[0])\n",
    "sns.histplot(df.ESC_PER_MUN, alpha = 0.4, kde = True, kde_kws = {\"cut\": 3}, ax = axes[1])\n",
    "sns.histplot(df.Age, alpha = 0.7, kde = True, kde_kws = {\"cut\": 3}, ax = axes[2])\n",
    "\n",
    "plt.show()"
   ]
  },
  {
   "cell_type": "code",
   "execution_count": 23,
   "metadata": {
    "id": "znTfs2VIDN3F"
   },
   "outputs": [],
   "source": [
    "def plot_corr(df, size = 10):\n",
    "    corr = df.corr()    \n",
    "    fig, ax = plt.subplots(figsize = (size, size))\n",
    "    ax.matshow(corr)  \n",
    "    plt.xticks(range(len(corr.columns)), corr.columns) \n",
    "    plt.yticks(range(len(corr.columns)), corr.columns)  "
   ]
  },
  {
   "cell_type": "code",
   "execution_count": 24,
   "metadata": {},
   "outputs": [
    {
     "data": {
      "image/png": "[encoded data removed]",
      "text/plain": [
       "<Figure size 720x720 with 1 Axes>"
      ]
     },
     "metadata": {
      "needs_background": "light"
     },
     "output_type": "display_data"
    }
   ],
   "source": [
    "plot_corr(df_num)"
   ]
  },
  {
   "cell_type": "code",
   "execution_count": 25,
   "metadata": {},
   "outputs": [
    {
     "data": {
      "text/html": [
       "<div>\n",
       "<style scoped>\n",
       "    .dataframe tbody tr th:only-of-type {\n",
       "        vertical-align: middle;\n",
       "    }\n",
       "\n",
       "    .dataframe tbody tr th {\n",
       "        vertical-align: top;\n",
       "    }\n",
       "\n",
       "    .dataframe thead th {\n",
       "        text-align: right;\n",
       "    }\n",
       "</style>\n",
       "<table border=\"1\" class=\"dataframe\">\n",
       "  <thead>\n",
       "    <tr style=\"text-align: right;\">\n",
       "      <th></th>\n",
       "      <th>porc_ACERT_lp</th>\n",
       "      <th>porc_ACERT_MAT</th>\n",
       "      <th>porc_ACERT_CIE</th>\n",
       "      <th>QT_MAT_BAS</th>\n",
       "      <th>MAT_PER_MUN</th>\n",
       "      <th>ESC_PER_MUN</th>\n",
       "      <th>Age</th>\n",
       "    </tr>\n",
       "  </thead>\n",
       "  <tbody>\n",
       "    <tr>\n",
       "      <th>porc_ACERT_lp</th>\n",
       "      <td>1.000000</td>\n",
       "      <td>0.632669</td>\n",
       "      <td>0.647091</td>\n",
       "      <td>-0.017605</td>\n",
       "      <td>0.084713</td>\n",
       "      <td>0.084469</td>\n",
       "      <td>-0.231271</td>\n",
       "    </tr>\n",
       "    <tr>\n",
       "      <th>porc_ACERT_MAT</th>\n",
       "      <td>0.632669</td>\n",
       "      <td>1.000000</td>\n",
       "      <td>0.596637</td>\n",
       "      <td>-0.080114</td>\n",
       "      <td>0.081649</td>\n",
       "      <td>0.081445</td>\n",
       "      <td>-0.362521</td>\n",
       "    </tr>\n",
       "    <tr>\n",
       "      <th>porc_ACERT_CIE</th>\n",
       "      <td>0.647091</td>\n",
       "      <td>0.596637</td>\n",
       "      <td>1.000000</td>\n",
       "      <td>-0.034823</td>\n",
       "      <td>-0.013787</td>\n",
       "      <td>-0.013729</td>\n",
       "      <td>-0.139544</td>\n",
       "    </tr>\n",
       "    <tr>\n",
       "      <th>QT_MAT_BAS</th>\n",
       "      <td>-0.017605</td>\n",
       "      <td>-0.080114</td>\n",
       "      <td>-0.034823</td>\n",
       "      <td>1.000000</td>\n",
       "      <td>0.352475</td>\n",
       "      <td>0.350742</td>\n",
       "      <td>0.117633</td>\n",
       "    </tr>\n",
       "    <tr>\n",
       "      <th>MAT_PER_MUN</th>\n",
       "      <td>0.084713</td>\n",
       "      <td>0.081649</td>\n",
       "      <td>-0.013787</td>\n",
       "      <td>0.352475</td>\n",
       "      <td>1.000000</td>\n",
       "      <td>0.999946</td>\n",
       "      <td>-0.228246</td>\n",
       "    </tr>\n",
       "    <tr>\n",
       "      <th>ESC_PER_MUN</th>\n",
       "      <td>0.084469</td>\n",
       "      <td>0.081445</td>\n",
       "      <td>-0.013729</td>\n",
       "      <td>0.350742</td>\n",
       "      <td>0.999946</td>\n",
       "      <td>1.000000</td>\n",
       "      <td>-0.227692</td>\n",
       "    </tr>\n",
       "    <tr>\n",
       "      <th>Age</th>\n",
       "      <td>-0.231271</td>\n",
       "      <td>-0.362521</td>\n",
       "      <td>-0.139544</td>\n",
       "      <td>0.117633</td>\n",
       "      <td>-0.228246</td>\n",
       "      <td>-0.227692</td>\n",
       "      <td>1.000000</td>\n",
       "    </tr>\n",
       "  </tbody>\n",
       "</table>\n",
       "</div>"
      ],
      "text/plain": [
       "                porc_ACERT_lp  porc_ACERT_MAT  porc_ACERT_CIE  QT_MAT_BAS  \\\n",
       "porc_ACERT_lp        1.000000        0.632669        0.647091   -0.017605   \n",
       "porc_ACERT_MAT       0.632669        1.000000        0.596637   -0.080114   \n",
       "porc_ACERT_CIE       0.647091        0.596637        1.000000   -0.034823   \n",
       "QT_MAT_BAS          -0.017605       -0.080114       -0.034823    1.000000   \n",
       "MAT_PER_MUN          0.084713        0.081649       -0.013787    0.352475   \n",
       "ESC_PER_MUN          0.084469        0.081445       -0.013729    0.350742   \n",
       "Age                 -0.231271       -0.362521       -0.139544    0.117633   \n",
       "\n",
       "                MAT_PER_MUN  ESC_PER_MUN       Age  \n",
       "porc_ACERT_lp      0.084713     0.084469 -0.231271  \n",
       "porc_ACERT_MAT     0.081649     0.081445 -0.362521  \n",
       "porc_ACERT_CIE    -0.013787    -0.013729 -0.139544  \n",
       "QT_MAT_BAS         0.352475     0.350742  0.117633  \n",
       "MAT_PER_MUN        1.000000     0.999946 -0.228246  \n",
       "ESC_PER_MUN        0.999946     1.000000 -0.227692  \n",
       "Age               -0.228246    -0.227692  1.000000  "
      ]
     },
     "execution_count": 25,
     "metadata": {},
     "output_type": "execute_result"
    }
   ],
   "source": [
    "df_num.corr()"
   ]
  },
  {
   "cell_type": "code",
   "execution_count": 26,
   "metadata": {},
   "outputs": [],
   "source": [
    "# OHE\n",
    "categ_ohe_quests = ['Q9', 'Q22', 'Q24', 'Q34', 'Q59', 'Q61', 'Q62', 'Q63',\n",
    "                    'RegiaoMetropolitana', 'SERIE_ANO', 'TP_SEXO', 'PERIODO',\n",
    "                    'Tipo_PROVA', 'disability']\n",
    "\n",
    "# Ordinals:\n",
    "\n",
    "## A < B < C < ... \n",
    "enc_greater = ['Q2', 'Q3', 'Q4', 'Q5', 'Q6', 'Q7', 'Q8', 'Q19', \n",
    "               'Q20', 'Q21', 'Q27', 'Q28', 'Q29', 'Q30', 'Q31', \n",
    "               'Q35', 'Q36', 'Q37', 'Q38', 'Q39', 'Q40', 'Q41', \n",
    "               'Q50', 'Q51', 'Q52', 'Q53', 'Q54', 'Q55', 'Q56', \n",
    "               'Q57', 'Q58', 'Q60']\n",
    "\n",
    "## A > B > C > ... \n",
    "enc_lower = ['Q1', 'Q10', 'Q11', 'Q12', 'Q13', 'Q14', 'Q15', \n",
    "             'Q16','Q17', 'Q18', 'Q23', 'Q25', 'Q26', 'Q33']\n",
    "\n",
    "## Categ: A, D, B, C\n",
    "categ_ADBC = ['Q43', 'Q44', 'Q45', 'Q46', 'Q47', 'Q48', 'Q49']\n",
    "\n",
    "## Particular cases\n",
    "#'Q32'\n",
    "#'Q42' "
   ]
  },
  {
   "cell_type": "code",
   "execution_count": 28,
   "metadata": {},
   "outputs": [],
   "source": [
    "x_train, x_valid, y_train, y_valid = train_test_split(\n",
    "    df,\n",
    "    df[['porc_ACERT_MAT', 'porc_ACERT_CIE', 'porc_ACERT_lp',\n",
    "        'nivel_profic_lp','nivel_profic_mat','nivel_profic_cie']], \n",
    "    test_size = 0.2, random_state = 181980)"
   ]
  },
  {
   "cell_type": "code",
   "execution_count": 29,
   "metadata": {},
   "outputs": [],
   "source": [
    "# Cria um pipeline para tratar as variaveis de interesse\n",
    "df_transform = ColumnTransformer(\n",
    "    [('cat_encod', OneHotEncoder(drop = 'first'), categ_ohe_quests),\n",
    "    ('Ordinal_lower', OrdinalEncoder(categories = [['A', 'B', 'C', 'D', 'E']] * len(enc_lower)), enc_lower),\n",
    "    ('Ordinal_greater', OrdinalEncoder(categories = [['E', 'D', 'C', 'B', 'A']] * len(enc_greater)), enc_greater),\n",
    "    ('Ordinal_ADBC', OrdinalEncoder(categories = [['A', 'D', 'B', 'C']] * len(categ_ADBC)), categ_ADBC),\n",
    "    ('Ordinal_particular1', OrdinalEncoder(categories = [['D', 'A', 'B', 'C']]), ['Q32']),\n",
    "    ('Ordinal_particular2', OrdinalEncoder(categories = [['D', 'C', 'E', 'B', 'A']]), ['Q42']),\n",
    "    ('scale_robust', RobustScaler(), ['Age','QT_MAT_BAS']),\n",
    "    ('scale_max', MaxAbsScaler(), ['ESC_PER_MUN'] )],\n",
    "    remainder = 'drop'\n",
    ")\n",
    "\n",
    "#Ajusta o pipeline e transforma no banco de \"treino\"\n",
    "x_prepared = df_transform.fit_transform(df)\n",
    "x_train_prepared = df_transform.fit_transform(x_train)\n",
    "x_valid_prepared = df_transform.transform(x_valid)"
   ]
  },
  {
   "cell_type": "code",
   "execution_count": 51,
   "metadata": {
    "id": "mjICojmaKQ3K"
   },
   "outputs": [],
   "source": [
    "class Implemented_Regression():\n",
    "    \n",
    "    '''\n",
    "    required packages: numpy, random. \n",
    "    '''\n",
    "\n",
    "    def __init__(self):\n",
    "        self.train = False\n",
    "\n",
    "    def fit_normal_equation(self, X, y):\n",
    "        '''\n",
    "        inputs: X and y must be a np.array.\n",
    "        return: linear regression parameters by Normal Equation.\n",
    "        '''\n",
    "        X = np.insert(X, 0, 1, 1)\n",
    "        \n",
    "        self.train = True\n",
    "        self.thetas = np.linalg.solve(np.dot(X.T, X), np.dot(X.T, y))\n",
    "        \n",
    "        return np.linalg.solve(np.dot(X.T, X), np.dot(X.T, y))\n",
    "        \n",
    "\n",
    "    def fit_gradient(self, X, y, alpha = 0.01, iterations = 10**4, threshold = 10**(-6)):\n",
    "        \n",
    "        '''\n",
    "        inputs: X and y must be a np.array.\n",
    "        return: linear regression parameters by Gradient Descent.\n",
    "        '''\n",
    "        \n",
    "        X = np.insert(X, 0, 1, 1)\n",
    "                \n",
    "        self.thetas = np.array([np.random.normal() for i in range(X.shape[1])])\n",
    "        n = len(y)\n",
    "         \n",
    "        for k in range(iterations):\n",
    "            gradients = list()\n",
    "            cost_func = 1/(2*n) * np.sum((np.dot(X, self.thetas) - y)**2)\n",
    "\n",
    "            for j in range(len(self.thetas)):\n",
    "                gradients.append(1/n * np.sum((np.dot(X, self.thetas) - y) * X[:, j]))\n",
    "\n",
    "            aux_thetas = np.array([b - alpha*g for b, g in zip(self.thetas, gradients)])\n",
    "            new_cost_func = 1/(2*n) * np.sum((np.dot(X, aux_thetas) - y)**2) \n",
    "            self.thetas = aux_thetas\n",
    "            \n",
    "            diff_gain = new_cost_func - cost_func\n",
    "            \n",
    "            if k >= 5 and abs(diff_gain) <= threshold:\n",
    "                self.train = True\n",
    "                return self.thetas\n",
    "        \n",
    "        self.train = True\n",
    "        return self.thetas\n",
    "     \n",
    "        \n",
    "    def predict(self, X_test):\n",
    "        '''\n",
    "        inputs: X must be a np.array.\n",
    "        return: y predicted values by the fitted model.\n",
    "        '''\n",
    "\n",
    "        if self.train:\n",
    "            X_test = np.insert(X_test, 0, 1, 1)\n",
    "            return np.dot(X_test, self.thetas)\n",
    "        else:\n",
    "            raise ValueError(\"You first must fit a linear regression model.\")\n",
    " "
   ]
  },
  {
   "cell_type": "code",
   "execution_count": null,
   "metadata": {
    "id": "e4nZrMr_C2X7",
    "scrolled": true
   },
   "outputs": [],
   "source": [
    "# TODO: Linear Regression. You can use scikit-learn libraries.\n",
    "\n",
    "from sklearn.metrics import mean_squared_error\n",
    "from yellowbrick.regressor import ResidualsPlot\n",
    "\n",
    "reg_model = LinearRegression()\n",
    "reg_model_mat = reg_model.fit(np.nan_to_num(x_train_prepared), y_train['porc_ACERT_MAT'])\n",
    "reg_model_cie = reg_model.fit(np.nan_to_num(x_train_prepared), y_train['porc_ACERT_CIE'])\n",
    "reg_model_lp = reg_model.fit(np.nan_to_num(x_train_prepared), y_train['porc_ACERT_lp'])\n",
    "\n",
    "mat_train_predict = reg_model_mat.predict(np.nan_to_num(x_train_prepared))\n",
    "mat_valid_predict = reg_model_mat.predict(np.nan_to_num(x_valid_prepared))\n",
    "sci_train_predict = reg_model_cie.predict(np.nan_to_num(x_train_prepared))\n",
    "sci_valid_predict = reg_model_cie.predict(np.nan_to_num(x_valid_prepared))\n",
    "lp_train_predict = reg_model_lp.predict(np.nan_to_num(x_train_prepared))\n",
    "lp_valid_predict = reg_model_lp.predict(np.nan_to_num(x_valid_prepared))\n",
    "\n",
    "MSE = {\"ANSWER\" : ['MAT train', 'MAT valid', 'SCI train', 'SCI valid', 'PT train', 'PT valid'],\n",
    "       \"MSE\" : [mean_squared_error(y_train['porc_ACERT_MAT'], mat_train_predict),\n",
    "                mean_squared_error(y_valid['porc_ACERT_MAT'], mat_valid_predict),\n",
    "                mean_squared_error(y_train['porc_ACERT_CIE'], sci_train_predict),\n",
    "                mean_squared_error(y_valid['porc_ACERT_CIE'], sci_valid_predict),\n",
    "                mean_squared_error(y_train['porc_ACERT_lp'], lp_train_predict),\n",
    "                mean_squared_error(y_valid['porc_ACERT_lp'], lp_valid_predict)]}\n",
    "\n",
    "MSE = pd.DataFrame(MSE)\n",
    "MSE"
   ]
  },
  {
   "cell_type": "code",
   "execution_count": null,
   "metadata": {},
   "outputs": [],
   "source": [
    "#Residuals from Math answer model\n",
    "\n",
    "visualizer = ResidualsPlot(reg_model, hist = False, qqplot = True)\n",
    "visualizer.fit(np.nan_to_num(x_train_prepared), y_train['porc_ACERT_MAT'])\n",
    "visualizer.score(np.nan_to_num(x_valid_prepared), y_valid['porc_ACERT_MAT'])\n",
    "visualizer.show()"
   ]
  },
  {
   "cell_type": "code",
   "execution_count": null,
   "metadata": {
    "scrolled": true
   },
   "outputs": [],
   "source": [
    "#Residuals from Math answer model\n",
    "\n",
    "reg_model_cie = reg_model.fit(np.nan_to_num(x_train_prepared), y_train['porc_ACERT_CIE'])\n",
    "\n",
    "visualizer = ResidualsPlot(reg_model, hist = False, qqplot = True)\n",
    "visualizer.fit(np.nan_to_num(x_train_prepared), y_train['porc_ACERT_CIE'])\n",
    "visualizer.score(np.nan_to_num(x_valid_prepared), y_valid['porc_ACERT_CIE'])\n",
    "visualizer.show()"
   ]
  },
  {
   "cell_type": "code",
   "execution_count": null,
   "metadata": {},
   "outputs": [],
   "source": [
    "reg_model_lp = reg_model.fit(np.nan_to_num(x_train_prepared), y_train['porc_ACERT_lp'])\n",
    "\n",
    "visualizer = ResidualsPlot(reg_model, hist = False, qqplot = True)\n",
    "visualizer.fit(np.nan_to_num(x_train_prepared), y_train['porc_ACERT_lp'])\n",
    "visualizer.score(np.nan_to_num(x_valid_prepared), y_valid['porc_ACERT_lp'])\n",
    "visualizer.show()"
   ]
  },
  {
   "cell_type": "markdown",
   "metadata": {
    "id": "zBNZQNImKQeo"
   },
   "source": [
    "\n",
    "> What are the conclusions? (1-2 paragraphs)\n",
    "\n",
    "\n"
   ]
  },
  {
   "cell_type": "markdown",
   "metadata": {
    "id": "ADxPBRhuK_Vq"
   },
   "source": [
    "2. (1 point) Use different Gradient Descent (GD) learning rates when optimizing. Compare the GD-based solutions with Normal Equation. What are the conclusions?\n"
   ]
  },
  {
   "cell_type": "code",
   "execution_count": null,
   "metadata": {
    "id": "RSZ1pLItNVbU"
   },
   "outputs": [],
   "source": [
    "# TODO: Gradient Descent (GD) with 3 different learning rates. You can use scikit-learn libraries.\n",
    "\n",
    "#Prediction error analysis from Math answers models\n",
    "from sklearn.linear_model import SGDRegressor\n",
    "from yellowbrick.regressor import PredictionError\n",
    "\n",
    "sgd_reg_model = SGDRegressor(max_iter = 1000, tol = 1e-3, penalty = None, eta0 = 0.1)\n",
    "\n",
    "visualizer = PredictionError(sgd_reg_model)\n",
    "visualizer.fit(np.nan_to_num(x_train_prepared), y_train['porc_ACERT_MAT'])\n",
    "visualizer.score(np.nan_to_num(x_valid_prepared), y_valid['porc_ACERT_MAT'])\n",
    "visualizer.show()"
   ]
  },
  {
   "cell_type": "code",
   "execution_count": null,
   "metadata": {
    "scrolled": false
   },
   "outputs": [],
   "source": [
    "#Prediction error analysis from Sci answers models\n",
    "\n",
    "sgd_reg_model2 = SGDRegressor(max_iter = 1000, tol = 1e-3, penalty = None, eta0 = 0.01)\n",
    "visualizer = PredictionError(sgd_reg_model2)\n",
    "visualizer.fit(np.nan_to_num(x_train_prepared), y_train['porc_ACERT_CIE'])\n",
    "visualizer.score(np.nan_to_num(x_valid_prepared), y_valid['porc_ACERT_CIE'])\n",
    "\n",
    "visualizer.show()"
   ]
  },
  {
   "cell_type": "code",
   "execution_count": null,
   "metadata": {},
   "outputs": [],
   "source": [
    "#Prediction erro analysis from Lp answers models\n",
    "\n",
    "sgd_reg_model3 = SGDRegressor(max_iter = 1000, tol = 1e-3, penalty = None, eta0 = 0.001)\n",
    "visualizer = PredictionError(sgd_reg_model3)\n",
    "visualizer.fit(np.nan_to_num(x_train_prepared), y_train['porc_ACERT_lp'])\n",
    "visualizer.score(np.nan_to_num(x_valid_prepared), y_valid['porc_ACERT_lp'])\n",
    "\n",
    "visualizer.show()"
   ]
  },
  {
   "cell_type": "code",
   "execution_count": null,
   "metadata": {},
   "outputs": [],
   "source": [
    "#Comparison from error between learning rates\n",
    "\n",
    "def cost_by_lr(X, y, learning_rate):\n",
    "    \n",
    "    X_train2, X_val,Y_train2, Y_val = train_test_split(X, y, test_size = 0.2, random_state = 181980)\n",
    "    train_error, val_error = [], []\n",
    "    \n",
    "    for lr in learning_rate:\n",
    "        model = SGDRegressor(max_iter = 1000, tol = 1e-3, penalty = None, eta0 = lr)\n",
    "        model.fit(X_train2,Y_train2)\n",
    "        \n",
    "        y_train2_predict = model.predict(X_train2)\n",
    "        y_val_predict = model.predict(X_val)\n",
    "        train_error.append(mean_squared_error(Y_train2,y_train2_predict))\n",
    "        val_error.append(mean_squared_error(Y_val,y_val_predict))\n",
    "        \n",
    "        font = {'family': 'serif',\n",
    "        'color':  'darkblue',\n",
    "        'weight': 'normal',\n",
    "        'size': 12,\n",
    "        }\n",
    "        \n",
    "    plt.plot(np.log(train_error),\"g-\", linewidth=1, label=\"Train\")\n",
    "    plt.plot(np.log(val_error),\"r:\", linewidth=2, label=\"Val\")\n",
    "    xi = list(range(len(learning_rate)))\n",
    "    plt.xticks(xi, learning_rate)\n",
    "    plt.title(\"Cost Function vs Learning Rate\",fontdict= font)\n",
    "    plt.xlabel(\"Learning Rate\",fontdict= font)\n",
    "    plt.ylabel(\"MSE (log scale)\",fontdict=font)\n",
    "    plt.legend()"
   ]
  },
  {
   "cell_type": "code",
   "execution_count": null,
   "metadata": {},
   "outputs": [],
   "source": [
    "#For math answers\n",
    "learning_rate = [0.5, 0.1, 0.05, 0.01, 0.005, 0.001]\n",
    "\n",
    "cost_by_lr(np.nan_to_num(x_prepared), df['porc_ACERT_MAT'], learning_rate)"
   ]
  },
  {
   "cell_type": "code",
   "execution_count": null,
   "metadata": {},
   "outputs": [],
   "source": [
    "#For Sci answers\n",
    "learning_rate = [0.5, 0.1, 0.05, 0.01, 0.005, 0.001]\n",
    "\n",
    "cost_by_lr(np.nan_to_num(x_prepared), df['porc_ACERT_CIE'], learning_rate)"
   ]
  },
  {
   "cell_type": "code",
   "execution_count": null,
   "metadata": {},
   "outputs": [],
   "source": [
    "#For pt answers\n",
    "learning_rate = [0.5, 0.1, 0.05, 0.01, 0.005, 0.001]\n",
    "\n",
    "cost_by_lr(np.nan_to_num(x_prepared), df['porc_ACERT_lp'], learning_rate)"
   ]
  },
  {
   "cell_type": "markdown",
   "metadata": {
    "id": "XrPl7jKgJPW6"
   },
   "source": [
    "\n",
    "3. (0.75 point) Sometimes, we need some more complex function to make good prediction. Devise and evaluate a Polynomial Linear Regression model. \n"
   ]
  },
  {
   "cell_type": "code",
   "execution_count": null,
   "metadata": {},
   "outputs": [],
   "source": [
    "# TODO: Complex model. You can use scikit-learn libraries.\n",
    "\n",
    "#Comparison from error between Penalized polinomial regression with diferent alphas\n",
    "\n",
    "def penalty_eval(X, y):\n",
    "    \n",
    "    X_train2, X_val,Y_train2, Y_val = train_test_split(X, y, test_size = 0.2, random_state = 181980)\n",
    "    train_error_l2, val_error_l2, train_error_l1, val_error_l1 = [], [], [], []\n",
    "    alphas = [1e-3, 1e-2, 1e-1]\n",
    "    \n",
    "    for al in alphas:\n",
    "        \n",
    "        model_l2 = SGDRegressor(max_iter = 1000, tol = 1e-3, penalty = 'l2', alpha = al, eta0 = 0.01)\n",
    "        model_l1 = SGDRegressor(max_iter = 1000, tol = 1e-3, penalty = 'l1', alpha = al, eta0 = 0.01)\n",
    "        \n",
    "        x_poly_prep = np.hstack((X_train2,X_train2**2))\n",
    "        x_val_prep = np.hstack((X_val,X_val**2))\n",
    "        \n",
    "        model_l2.fit(x_poly_prep,Y_train2)\n",
    "        model_l1.fit(x_poly_prep,Y_train2)\n",
    "        \n",
    "        y_train_l2_predict = model_l2.predict(x_poly_prep)\n",
    "        y_val_l2_predict = model_l2.predict(x_val_prep)\n",
    "        y_train_l1_predict = model_l1.predict(x_poly_prep)\n",
    "        y_val_l1_predict = model_l1.predict(x_val_prep)\n",
    "        \n",
    "        train_error_l2.append(mean_squared_error(Y_train2,y_train_l2_predict))\n",
    "        val_error_l2.append(mean_squared_error(Y_val,y_val_l2_predict))\n",
    "        train_error_l1.append(mean_squared_error(Y_train2,y_train_l1_predict))\n",
    "        val_error_l1.append(mean_squared_error(Y_val,y_val_l1_predict))\n",
    "    \n",
    "    font = {'family': 'serif', 'color':  'darkblue','weight': 'normal','size': 12,}\n",
    "    plt.plot(np.log(train_error_l2),\"g-\", linewidth=1, label=\"Train - L2\")\n",
    "    plt.plot(np.log(val_error_l2),\"r:\", linewidth=2, label=\"Val- L2\")\n",
    "    plt.plot(np.log(train_error_l1),\"b-\", linewidth=1, label=\"Train- L1\")\n",
    "    plt.plot(np.log(val_error_l1),\"m:\", linewidth=2, label=\"Val- L1\")\n",
    "    \n",
    "    xi = list(range(len(alphas)))\n",
    "    \n",
    "    plt.xticks(xi, alphas)\n",
    "    plt.title(\"Cost Function - Penalized Polynomial Regression\",fontdict= font)\n",
    "    plt.xlabel(\"Alpha penalty\",fontdict= font)\n",
    "    plt.ylabel(\"MSE\",fontdict=font)\n",
    "    plt.legend()"
   ]
  },
  {
   "cell_type": "code",
   "execution_count": null,
   "metadata": {
    "scrolled": false
   },
   "outputs": [],
   "source": [
    "#For math answers\n",
    "\n",
    "penalty_eval(np.nan_to_num(x_prepared), df['porc_ACERT_MAT'])"
   ]
  },
  {
   "cell_type": "code",
   "execution_count": null,
   "metadata": {},
   "outputs": [],
   "source": [
    "#For sci answers\n",
    "\n",
    "penalty_eval(np.nan_to_num(x_prepared), df['porc_ACERT_CIE'])"
   ]
  },
  {
   "cell_type": "code",
   "execution_count": null,
   "metadata": {},
   "outputs": [],
   "source": [
    "#For pt answers\n",
    "penaltys = ['l2', 'l1', 'elasticnet']\n",
    "\n",
    "penalty_eval(np.nan_to_num(x_prepared), df['porc_ACERT_lp'])"
   ]
  },
  {
   "cell_type": "markdown",
   "metadata": {
    "id": "rBLKtosaLaCw"
   },
   "source": [
    "*texto em itálico*\n",
    " > What are the conclusions? What are the actions after such analyses? (1-2 paragraphs)\n",
    "\n",
    " \n"
   ]
  },
  {
   "cell_type": "markdown",
   "metadata": {
    "id": "ldSh1vtWK5Zk"
   },
   "source": [
    "4. (0.5) Plot the cost function vs. number of epochs in the training/validation set and analyze the model. "
   ]
  },
  {
   "cell_type": "code",
   "execution_count": null,
   "metadata": {
    "id": "mg7aNkl_LG4P"
   },
   "outputs": [],
   "source": [
    "# TODO: Plot the cost function vs. number of iterations in the training set.\n",
    "\n",
    "def plot_cost_function(X, y, epochs, learning_rate):\n",
    "    \n",
    "    X_train2, X_val,Y_train2, Y_val = train_test_split(X, y, test_size = 0.2,random_state = 181980)\n",
    "    train_error, val_error = [], []\n",
    "    \n",
    "    for epoch in range(1, epochs):\n",
    "        \n",
    "        model = SGDRegressor(max_iter = epoch, tol = 1e-3, penalty = None, eta0 = learning_rate)\n",
    "        model.fit(X_train2, Y_train2)\n",
    "        \n",
    "        y_train2_predict = model.predict(X_train2)\n",
    "        y_val_predict = model.predict(X_val)\n",
    "        \n",
    "        train_error.append(mean_squared_error(Y_train2, y_train2_predict))\n",
    "        val_error.append(mean_squared_error(Y_val, y_val_predict))\n",
    "        \n",
    "        font = {'family': 'serif',\n",
    "        'color':  'darkblue',\n",
    "        'weight': 'normal',\n",
    "        'size': 12,}\n",
    "        \n",
    "    plt.plot(train_error, \"g-\", linewidth=1, label=\"Train\")\n",
    "    plt.plot(val_error, \"r:\", linewidth=2, label=\"Val\")\n",
    "    plt.title(\"Cost Function per Epoch size\", fontdict= font)\n",
    "    plt.xlabel(\"Number of Epochs\", fontdict= font)\n",
    "    plt.ylabel(\"MSE\", fontdict=font)\n",
    "    plt.legend()"
   ]
  },
  {
   "cell_type": "code",
   "execution_count": null,
   "metadata": {},
   "outputs": [],
   "source": [
    "#For math answers\n",
    "\n",
    "plot_cost_function(np.nan_to_num(x_prepared), df['porc_ACERT_MAT'], 100, 0.01)"
   ]
  },
  {
   "cell_type": "code",
   "execution_count": null,
   "metadata": {
    "scrolled": false
   },
   "outputs": [],
   "source": [
    "#For sci answers\n",
    "\n",
    "plot_cost_function(np.nan_to_num(x_prepared), df['porc_ACERT_CIE'], 100, 0.01)"
   ]
  },
  {
   "cell_type": "code",
   "execution_count": null,
   "metadata": {
    "scrolled": true
   },
   "outputs": [],
   "source": [
    "#For pt answers\n",
    "\n",
    "plot_cost_function(np.nan_to_num(x_prepared), df['porc_ACERT_lp'], 100, 0.01)"
   ]
  },
  {
   "cell_type": "markdown",
   "metadata": {
    "id": "CfR862UoK9j6"
   },
   "source": [
    "*texto em itálico*\n",
    " > What are the conclusions? What are the actions after such analyses? (1-2 paragraphs)"
   ]
  },
  {
   "cell_type": "markdown",
   "metadata": {
    "id": "8Xij-E5UUseS"
   },
   "source": [
    "5. (0.25 point) Pick **your best model**, based on your validation set, and predict the target values for the test set."
   ]
  },
  {
   "cell_type": "markdown",
   "metadata": {
    "id": "h_PobUahUseS"
   },
   "source": [
    "## Logistic Regression"
   ]
  },
  {
   "cell_type": "markdown",
   "metadata": {
    "id": "SCJuwjrAUseS"
   },
   "source": [
    "Now, this part of the assignment aims to predict students' proeficiency level on Portuguese, Mathematics, and Natural Sciences (target values: `nivel_profic_lp`, `nivel_profic_mat` and `nivel_profic_cie`) based on their socioeconomic data. Then, you have to **drop the columns `porc_ACERT_lp`,  `porc_ACERT_MAT`** and  **`porc_ACERT_CIE`**."
   ]
  },
  {
   "cell_type": "markdown",
   "metadata": {},
   "source": [
    "**Solution:** As previously done, the dataset was divided, randomly, in 2 sets: training and validation. We can see below that the target classes, for each of the knowledge areas, are unbalanced even in the complete dataset and after the division of it."
   ]
  },
  {
   "cell_type": "code",
   "execution_count": 207,
   "metadata": {},
   "outputs": [
    {
     "data": {
      "text/plain": [
       "Básico              0.449376\n",
       "Adequado            0.267941\n",
       "Abaixo do Básico    0.223404\n",
       "Avançado            0.059280\n",
       "Name: nivel_profic_lp, dtype: float64"
      ]
     },
     "metadata": {},
     "output_type": "display_data"
    },
    {
     "data": {
      "text/plain": [
       "Básico              0.449132\n",
       "Adequado            0.269467\n",
       "Abaixo do Básico    0.222458\n",
       "Avançado            0.058943\n",
       "Name: nivel_profic_lp, dtype: float64"
      ]
     },
     "metadata": {},
     "output_type": "display_data"
    },
    {
     "data": {
      "text/plain": [
       "Básico              0.450351\n",
       "Adequado            0.261837\n",
       "Abaixo do Básico    0.227187\n",
       "Avançado            0.060625\n",
       "Name: nivel_profic_lp, dtype: float64"
      ]
     },
     "metadata": {},
     "output_type": "display_data"
    }
   ],
   "source": [
    "display(df['nivel_profic_lp'].value_counts(normalize = True), \n",
    "        x_train['nivel_profic_lp'].value_counts(normalize = True), \n",
    "        x_valid['nivel_profic_lp'].value_counts(normalize = True))"
   ]
  },
  {
   "cell_type": "code",
   "execution_count": 125,
   "metadata": {},
   "outputs": [
    {
     "data": {
      "text/plain": [
       "Básico              0.448235\n",
       "Abaixo do Básico    0.366454\n",
       "Adequado            0.147182\n",
       "Avançado            0.038128\n",
       "Name: nivel_profic_mat, dtype: float64"
      ]
     },
     "metadata": {},
     "output_type": "display_data"
    },
    {
     "data": {
      "text/plain": [
       "Básico              0.447589\n",
       "Abaixo do Básico    0.363315\n",
       "Adequado            0.150279\n",
       "Avançado            0.038818\n",
       "Name: nivel_profic_mat, dtype: float64"
      ]
     },
     "metadata": {},
     "output_type": "display_data"
    }
   ],
   "source": [
    "display(x_train['nivel_profic_mat'].value_counts(normalize = True), \n",
    "        x_valid['nivel_profic_mat'].value_counts(normalize = True))"
   ]
  },
  {
   "cell_type": "code",
   "execution_count": 122,
   "metadata": {},
   "outputs": [
    {
     "data": {
      "text/plain": [
       "Básico              0.441778\n",
       "Abaixo do Básico    0.289337\n",
       "Adequado            0.210911\n",
       "Avançado            0.057974\n",
       "Name: nivel_profic_cie, dtype: float64"
      ]
     },
     "metadata": {},
     "output_type": "display_data"
    },
    {
     "data": {
      "text/plain": [
       "Básico              0.432130\n",
       "Abaixo do Básico    0.295033\n",
       "Adequado            0.213763\n",
       "Avançado            0.059074\n",
       "Name: nivel_profic_cie, dtype: float64"
      ]
     },
     "metadata": {},
     "output_type": "display_data"
    }
   ],
   "source": [
    "display(x_train['nivel_profic_cie'].value_counts(normalize = True), \n",
    "        x_valid['nivel_profic_cie'].value_counts(normalize = True))"
   ]
  },
  {
   "cell_type": "code",
   "execution_count": 120,
   "metadata": {},
   "outputs": [
    {
     "data": {
      "text/plain": [
       "Básico              0.432130\n",
       "Abaixo do Básico    0.295033\n",
       "Adequado            0.213763\n",
       "Avançado            0.059074\n",
       "Name: nivel_profic_cie, dtype: float64"
      ]
     },
     "execution_count": 120,
     "metadata": {},
     "output_type": "execute_result"
    }
   ],
   "source": [
    "x_valid['nivel_profic_cie'].value_counts(normalize = True)"
   ]
  },
  {
   "cell_type": "markdown",
   "metadata": {},
   "source": [
    "Almost the same percentage distributions of each of the targets can be observed:"
   ]
  },
  {
   "cell_type": "markdown",
   "metadata": {
    "id": "joYtn8avUseS"
   },
   "source": [
    "### Activities\n",
    "\n",
    "1. (2.75 points) Perform Multinomial Logistic Regression (_i.e._, softmax regression). It is a generalization of Logistic Regression to the case where we want to handle multiple classes. Try different combinations of features, dropping the ones less correlated to the target variables."
   ]
  },
  {
   "cell_type": "code",
   "execution_count": 143,
   "metadata": {},
   "outputs": [],
   "source": [
    "targets = LabelEncoder()\n",
    "\n",
    "train_target_lp = targets.fit_transform(x_train['nivel_profic_lp'])\n",
    "train_target_mat = targets.fit_transform(x_train['nivel_profic_mat'])\n",
    "train_target_cie = targets.fit_transform(x_train['nivel_profic_cie'])\n",
    "\n",
    "valid_target_lp = targets.transform(x_valid['nivel_profic_lp'])\n",
    "valid_target_mat = targets.transform(x_valid['nivel_profic_mat'])\n",
    "valid_target_cie = targets.transform(x_valid['nivel_profic_cie'])"
   ]
  },
  {
   "cell_type": "code",
   "execution_count": 144,
   "metadata": {
    "id": "-36Dt2V_UseT"
   },
   "outputs": [],
   "source": [
    "# TODO: Multinomial Logistic Regression. You can use scikit-learn libraries.\n",
    "\n",
    "w_lp = {0: 22,\n",
    "        1: 27,\n",
    "        2: 6,\n",
    "        3: 45}\n",
    "\n",
    "w_mat = {0: 36,\n",
    "         1: 15,\n",
    "         2: 4,\n",
    "         3: 45}\n",
    "\n",
    "w_cie = {0: 29,\n",
    "         1: 21,\n",
    "         2: 6,\n",
    "         3: 44}\n",
    "\n",
    "logistic_model_lp = LogisticRegression(multi_class = 'multinomial', class_weight = w_lp)\n",
    "logistic_model_mat = LogisticRegression(multi_class = 'multinomial', class_weight = w_mat)\n",
    "logistic_model_cie = LogisticRegression(multi_class = 'multinomial', class_weight = w_cie)"
   ]
  },
  {
   "cell_type": "code",
   "execution_count": 145,
   "metadata": {},
   "outputs": [],
   "source": [
    "baseline_fit_lp = logistic_model_lp.fit(x_train_prepared, train_target_lp)\n",
    "baseline_fit_mat = logistic_model_mat.fit(x_train_prepared, train_target_mat)\n",
    "baseline_fit_cie = logistic_model_cie.fit(x_train_prepared, train_target_cie)"
   ]
  },
  {
   "cell_type": "markdown",
   "metadata": {
    "id": "WQj3oImUUseT"
   },
   "source": [
    "> What are the conclusions? (1-2 paragraphs)\n"
   ]
  },
  {
   "cell_type": "markdown",
   "metadata": {
    "id": "yb1KNEqLUseT"
   },
   "source": [
    "2. (0.5 point) Plot the cost function vs. number of epochs in the training/validation set and analyze the model. "
   ]
  },
  {
   "cell_type": "markdown",
   "metadata": {},
   "source": [
    "The function below computes the cost function for each epoch, in a given range, in the training/validation. For logistic regression, the cost function is given by log-loss. As can be seen, after 10 epochs does not show considerable gains "
   ]
  },
  {
   "cell_type": "code",
   "execution_count": 202,
   "metadata": {
    "id": "wfECeHi3UseT"
   },
   "outputs": [],
   "source": [
    "# TODO: Plot the cost function vs. number of iterations in the training set.\n",
    "\n",
    "from sklearn.metrics import log_loss\n",
    "\n",
    "def costFunction_by_logloss(x_train, y_train, x_val, y_val, epochs, subject):\n",
    "    \n",
    "    train_error = []\n",
    "    val_error = []\n",
    "    \n",
    "    if subject == 'lp':\n",
    "            \n",
    "        w = {0: 22,\n",
    "             1: 27,\n",
    "             2: 6,\n",
    "             3: 45}\n",
    "            \n",
    "        for epoch in range(1, epochs):\n",
    "            \n",
    "            lr = LogisticRegression(multi_class = 'multinomial', class_weight = w, max_iter = epoch, tol=1e-3)\n",
    "\n",
    "            lr.fit(x_train, y_train)\n",
    "            y_train_pred = lr.predict_proba(x_train)\n",
    "            y_val_pred = lr.predict_proba(x_val)\n",
    "\n",
    "            train_error.append(log_loss(y_train, y_train_pred))\n",
    "            val_error.append(log_loss(y_val, y_val_pred))\n",
    "            \n",
    "            \n",
    "    elif subject == 'mat':\n",
    "            \n",
    "        w = {0: 36,\n",
    "             1: 15,\n",
    "             2: 4,\n",
    "             3: 45}\n",
    "        \n",
    "        for epoch in range(1, epochs):\n",
    "            \n",
    "            lr = LogisticRegression(multi_class = 'multinomial', class_weight = w, max_iter = epoch, tol=1e-3)\n",
    "            lr.fit(x_train, y_train)\n",
    "            y_train_pred = lr.predict_proba(x_train)\n",
    "            y_val_pred = lr.predict_proba(x_val)\n",
    "\n",
    "            train_error.append(log_loss(y_train, y_train_pred))\n",
    "            val_error.append(log_loss(y_val, y_val_pred))\n",
    "        \n",
    "        \n",
    "    elif subject == 'cie':\n",
    "            \n",
    "        w = {0: 29,\n",
    "             1: 21,\n",
    "             2: 6,\n",
    "             3: 44}\n",
    "        \n",
    "        for epoch in range(1, epochs):\n",
    "        \n",
    "            lr = LogisticRegression(multi_class = 'multinomial', class_weight = w, max_iter = epoch, tol=1e-3)\n",
    "            lr.fit(x_train, y_train)\n",
    "            y_train_pred = lr.predict_proba(x_train)\n",
    "            y_val_pred = lr.predict_proba(x_val)\n",
    "\n",
    "            train_error.append(log_loss(y_train, y_train_pred))\n",
    "            val_error.append(log_loss(y_val, y_val_pred))\n",
    "    \n",
    "    \n",
    "#    fig, ax = plt.subplots(figsize = (12, 8))\n",
    "#    ax.plot(train_error, 'r', label = 'train')\n",
    "#    ax.plot(val_error, 'b',  label = 'valid')\n",
    "#    ax.set_xlabel('Epoch')\n",
    "#    ax.set_ylabel('Log-Loss')\n",
    "#    ax.legend(loc = 'best')\n",
    "    font = {'family': 'serif',\n",
    "        'color':  'darkblue',\n",
    "        'weight': 'normal',\n",
    "        'size': 12,}\n",
    "    \n",
    "    plt.plot(train_error, \"g-\", linewidth=1, label = \"Train\")\n",
    "    plt.plot(val_error, \"r:\", linewidth=2, label = \"Val\")\n",
    "    plt.title(\"Cost Function (Log_loss) vs Epoch\", fontdict = font)\n",
    "    plt.xlabel(\"Epoch\", fontdict = font)\n",
    "    plt.ylabel(\"Log_loss\",fontdict = font)\n",
    "    plt.legend()"
   ]
  },
  {
   "cell_type": "code",
   "execution_count": 203,
   "metadata": {},
   "outputs": [
    {
     "data": {
      "image/png": "[encoded data removed]",
      "text/plain": [
       "<Figure size 432x288 with 1 Axes>"
      ]
     },
     "metadata": {
      "needs_background": "light"
     },
     "output_type": "display_data"
    }
   ],
   "source": [
    "costFunction_by_logloss(x_train_prepared, train_target_lp, x_valid_prepared, valid_target_lp, 100, 'lp')"
   ]
  },
  {
   "cell_type": "code",
   "execution_count": 204,
   "metadata": {},
   "outputs": [
    {
     "data": {
      "image/png": "[encoded data removed]",
      "text/plain": [
       "<Figure size 432x288 with 1 Axes>"
      ]
     },
     "metadata": {
      "needs_background": "light"
     },
     "output_type": "display_data"
    }
   ],
   "source": [
    "costFunction_by_logloss(x_train_prepared, train_target_lp, x_valid_prepared, valid_target_lp, 100, 'mat')"
   ]
  },
  {
   "cell_type": "code",
   "execution_count": 205,
   "metadata": {},
   "outputs": [
    {
     "data": {
      "image/png": "[encoded data removed]",
      "text/plain": [
       "<Figure size 432x288 with 1 Axes>"
      ]
     },
     "metadata": {
      "needs_background": "light"
     },
     "output_type": "display_data"
    }
   ],
   "source": [
    "costFunction_by_logloss(x_train_prepared, train_target_lp, x_valid_prepared, valid_target_lp, 100, 'cie')"
   ]
  },
  {
   "cell_type": "markdown",
   "metadata": {
    "id": "-IM4mx23UseT"
   },
   "source": [
    "> What are the conclusions? (1-2 paragraphs)\n"
   ]
  },
  {
   "cell_type": "markdown",
   "metadata": {
    "id": "Lqlv9-6OUseT"
   },
   "source": [
    "3. (0.75 point) Pick **your best model** and plot the confusion matrix in the **test set**. \n"
   ]
  },
  {
   "cell_type": "code",
   "execution_count": null,
   "metadata": {
    "id": "-jdyJuS0UseT"
   },
   "outputs": [],
   "source": [
    "# TODO: Plot the confusion matrix. You can use scikit-learn, seaborn, matplotlib libraries."
   ]
  },
  {
   "cell_type": "markdown",
   "metadata": {
    "id": "xAmCj0cpUseT"
   },
   "source": [
    "> What are the conclusions? (1-2 paragraphs)\n"
   ]
  },
  {
   "cell_type": "markdown",
   "metadata": {
    "id": "kdSGS4brHnAi"
   },
   "source": [
    "## Deadline\n",
    "\n",
    "Monday, September 19, 11:59 pm. \n",
    "\n",
    "Penalty policy for late submission: You are not encouraged to submit your assignment after due date. However, in case you do, your grade will be penalized as follows:\n",
    "- September 20, 11:59 pm : grade * 0.75\n",
    "- September 21, 11:59 pm : grade * 0.5\n",
    "- September 22, 11:59 pm : grade * 0.25\n"
   ]
  },
  {
   "cell_type": "markdown",
   "metadata": {
    "id": "joN9pvZJIfW5"
   },
   "source": [
    "## Submission\n",
    "\n",
    "On Google Classroom, submit your Jupyter Notebook (in Portuguese or English).\n",
    "\n",
    "**This activity is NOT individual, it must be done in pairs (two-person group).**"
   ]
  }
 ],
 "metadata": {
  "accelerator": "GPU",
  "colab": {
   "collapsed_sections": [],
   "provenance": []
  },
  "kernelspec": {
   "display_name": "Python 3 (ipykernel)",
   "language": "python",
   "name": "python3"
  },
  "language_info": {
   "codemirror_mode": {
    "name": "ipython",
    "version": 3
   },
   "file_extension": ".py",
   "mimetype": "text/x-python",
   "name": "python",
   "nbconvert_exporter": "python",
   "pygments_lexer": "ipython3",
   "version": "3.9.7"
  }
 },
 "nbformat": 4,
 "nbformat_minor": 1
}
